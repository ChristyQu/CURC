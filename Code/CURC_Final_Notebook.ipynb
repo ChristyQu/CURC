{
  "nbformat": 4,
  "nbformat_minor": 0,
  "metadata": {
    "colab": {
      "name": "CURC project.ipynb",
      "provenance": [],
      "collapsed_sections": [],
      "toc_visible": true
    },
    "kernelspec": {
      "display_name": "Python 3",
      "language": "python",
      "name": "python3"
    },
    "language_info": {
      "codemirror_mode": {
        "name": "ipython",
        "version": 3
      },
      "file_extension": ".py",
      "mimetype": "text/x-python",
      "name": "python",
      "nbconvert_exporter": "python",
      "pygments_lexer": "ipython3",
      "version": "3.8.3"
    }
  },
  "cells": [
    {
      "cell_type": "code",
      "metadata": {
        "id": "_8e85a4egED_"
      },
      "source": [
        "# https://www.kaggle.com/tanmoyx/covid19-patient-precondition-dataset?select=covid.csv\n",
        "# sex: Female - 1, Male - 2\n",
        "# patien_type:Outpatient - 1, Inpatient - 2\n",
        "# intubed:Yes - 1, No - 2, Data missing or NA - 97,98,99\n",
        "# pneumonia:Yes - 1, No - 2, Data missing or NA - 97,98,99\n",
        "# age: continues variable\n",
        "# pregnancy Yes - 1, No - 2, Data missing or NA - 97,98,99\n",
        "# diabetes Yes - 1, No - 2, Data missing or NA - 97,98,99\n",
        "# copd Yes - 1, No - 2, Data missing or NA - 97,98,99\n",
        "# asthma Yes - 1, No - 2, Data missing or NA - 97,98,99\n",
        "# inmsupr Yes - 1, No - 2, Data missing or NA - 97,98,99\n",
        "# hypertension Yes - 1, No - 2, Data missing or NA - 97,98,99\n",
        "# other_disease Yes - 1, No - 2, Data missing or NA - 97,98,99\n",
        "# cardiovascular Yes - 1, No - 2, Data missing or NA - 97,98,99\n",
        "# obesity Yes - 1, No - 2, Data missing or NA - 97,98,99\n",
        "# renal_chronic Yes - 1, No - 2, Data missing or NA - 97,98,99\n",
        "# tobacco Yes - 1, No - 2, Data missing or NA - 97,98,99\n",
        "# contact_other_covid Yes - 1, No - 2, Data missing or NA - 97,98,99\n",
        "# covid_res Positive - 1, Negative - 2, Awaiting Results - 3\n",
        "# icu Yes - 1, No - 2, Data missing or NA - 97,98,99"
      ],
      "execution_count": null,
      "outputs": []
    },
    {
      "cell_type": "code",
      "metadata": {
        "id": "UATiymlwgEEE"
      },
      "source": [
        "import pandas as pd\n",
        "import datetime\n",
        "import numpy as np\n",
        "import matplotlib.pyplot as plt\n",
        "from sklearn.ensemble import RandomForestClassifier\n",
        "from sklearn.metrics import classification_report, confusion_matrix\n",
        "from sklearn.ensemble import GradientBoostingClassifier\n",
        "from xgboost import XGBClassifier\n",
        "from sklearn import metrics\n",
        "from sklearn.tree import DecisionTreeClassifier\n",
        "from sklearn.datasets import load_digits\n",
        "from sklearn.model_selection import train_test_split\n",
        "from sklearn.model_selection import GridSearchCV\n",
        "from sklearn.model_selection import cross_val_score\n",
        "from sklearn.model_selection import StratifiedKFold\n",
        "from sklearn.metrics import accuracy_score\n",
        "import matplotlib.pyplot as plt\n",
        "import numpy as np\n",
        "from sklearn import datasets"
      ],
      "execution_count": 98,
      "outputs": []
    },
    {
      "cell_type": "code",
      "metadata": {
        "id": "aS1hQNejgEEG",
        "colab": {
          "base_uri": "https://localhost:8080/",
          "height": 224
        },
        "outputId": "f7e4c712-f3a7-4624-d990-7b2363172a33"
      },
      "source": [
        "# read data\n",
        "df = pd.read_csv('covid.csv')\n",
        "\n",
        "df.head()"
      ],
      "execution_count": 50,
      "outputs": [
        {
          "output_type": "execute_result",
          "data": {
            "text/html": [
              "<div>\n",
              "<style scoped>\n",
              "    .dataframe tbody tr th:only-of-type {\n",
              "        vertical-align: middle;\n",
              "    }\n",
              "\n",
              "    .dataframe tbody tr th {\n",
              "        vertical-align: top;\n",
              "    }\n",
              "\n",
              "    .dataframe thead th {\n",
              "        text-align: right;\n",
              "    }\n",
              "</style>\n",
              "<table border=\"1\" class=\"dataframe\">\n",
              "  <thead>\n",
              "    <tr style=\"text-align: right;\">\n",
              "      <th></th>\n",
              "      <th>id</th>\n",
              "      <th>sex</th>\n",
              "      <th>patient_type</th>\n",
              "      <th>entry_date</th>\n",
              "      <th>date_symptoms</th>\n",
              "      <th>date_died</th>\n",
              "      <th>intubed</th>\n",
              "      <th>pneumonia</th>\n",
              "      <th>age</th>\n",
              "      <th>pregnancy</th>\n",
              "      <th>diabetes</th>\n",
              "      <th>copd</th>\n",
              "      <th>asthma</th>\n",
              "      <th>inmsupr</th>\n",
              "      <th>hypertension</th>\n",
              "      <th>other_disease</th>\n",
              "      <th>cardiovascular</th>\n",
              "      <th>obesity</th>\n",
              "      <th>renal_chronic</th>\n",
              "      <th>tobacco</th>\n",
              "      <th>contact_other_covid</th>\n",
              "      <th>covid_res</th>\n",
              "      <th>icu</th>\n",
              "    </tr>\n",
              "  </thead>\n",
              "  <tbody>\n",
              "    <tr>\n",
              "      <th>0</th>\n",
              "      <td>16169f</td>\n",
              "      <td>2</td>\n",
              "      <td>1</td>\n",
              "      <td>04-05-2020</td>\n",
              "      <td>02-05-2020</td>\n",
              "      <td>9999-99-99</td>\n",
              "      <td>97</td>\n",
              "      <td>2</td>\n",
              "      <td>27</td>\n",
              "      <td>97</td>\n",
              "      <td>2</td>\n",
              "      <td>2</td>\n",
              "      <td>2</td>\n",
              "      <td>2</td>\n",
              "      <td>2</td>\n",
              "      <td>2</td>\n",
              "      <td>2</td>\n",
              "      <td>2</td>\n",
              "      <td>2</td>\n",
              "      <td>2</td>\n",
              "      <td>2</td>\n",
              "      <td>1</td>\n",
              "      <td>97</td>\n",
              "    </tr>\n",
              "    <tr>\n",
              "      <th>1</th>\n",
              "      <td>1009bf</td>\n",
              "      <td>2</td>\n",
              "      <td>1</td>\n",
              "      <td>19-03-2020</td>\n",
              "      <td>17-03-2020</td>\n",
              "      <td>9999-99-99</td>\n",
              "      <td>97</td>\n",
              "      <td>2</td>\n",
              "      <td>24</td>\n",
              "      <td>97</td>\n",
              "      <td>2</td>\n",
              "      <td>2</td>\n",
              "      <td>2</td>\n",
              "      <td>2</td>\n",
              "      <td>2</td>\n",
              "      <td>2</td>\n",
              "      <td>2</td>\n",
              "      <td>2</td>\n",
              "      <td>2</td>\n",
              "      <td>2</td>\n",
              "      <td>99</td>\n",
              "      <td>1</td>\n",
              "      <td>97</td>\n",
              "    </tr>\n",
              "    <tr>\n",
              "      <th>2</th>\n",
              "      <td>167386</td>\n",
              "      <td>1</td>\n",
              "      <td>2</td>\n",
              "      <td>06-04-2020</td>\n",
              "      <td>01-04-2020</td>\n",
              "      <td>9999-99-99</td>\n",
              "      <td>2</td>\n",
              "      <td>2</td>\n",
              "      <td>54</td>\n",
              "      <td>2</td>\n",
              "      <td>2</td>\n",
              "      <td>2</td>\n",
              "      <td>2</td>\n",
              "      <td>2</td>\n",
              "      <td>2</td>\n",
              "      <td>2</td>\n",
              "      <td>2</td>\n",
              "      <td>1</td>\n",
              "      <td>2</td>\n",
              "      <td>2</td>\n",
              "      <td>99</td>\n",
              "      <td>1</td>\n",
              "      <td>2</td>\n",
              "    </tr>\n",
              "    <tr>\n",
              "      <th>3</th>\n",
              "      <td>0b5948</td>\n",
              "      <td>2</td>\n",
              "      <td>2</td>\n",
              "      <td>17-04-2020</td>\n",
              "      <td>10-04-2020</td>\n",
              "      <td>9999-99-99</td>\n",
              "      <td>2</td>\n",
              "      <td>1</td>\n",
              "      <td>30</td>\n",
              "      <td>97</td>\n",
              "      <td>2</td>\n",
              "      <td>2</td>\n",
              "      <td>2</td>\n",
              "      <td>2</td>\n",
              "      <td>2</td>\n",
              "      <td>2</td>\n",
              "      <td>2</td>\n",
              "      <td>2</td>\n",
              "      <td>2</td>\n",
              "      <td>2</td>\n",
              "      <td>99</td>\n",
              "      <td>1</td>\n",
              "      <td>2</td>\n",
              "    </tr>\n",
              "    <tr>\n",
              "      <th>4</th>\n",
              "      <td>0d01b5</td>\n",
              "      <td>1</td>\n",
              "      <td>2</td>\n",
              "      <td>13-04-2020</td>\n",
              "      <td>13-04-2020</td>\n",
              "      <td>22-04-2020</td>\n",
              "      <td>2</td>\n",
              "      <td>2</td>\n",
              "      <td>60</td>\n",
              "      <td>2</td>\n",
              "      <td>1</td>\n",
              "      <td>2</td>\n",
              "      <td>2</td>\n",
              "      <td>2</td>\n",
              "      <td>1</td>\n",
              "      <td>2</td>\n",
              "      <td>1</td>\n",
              "      <td>2</td>\n",
              "      <td>2</td>\n",
              "      <td>2</td>\n",
              "      <td>99</td>\n",
              "      <td>1</td>\n",
              "      <td>2</td>\n",
              "    </tr>\n",
              "  </tbody>\n",
              "</table>\n",
              "</div>"
            ],
            "text/plain": [
              "       id  sex  patient_type  ... contact_other_covid covid_res icu\n",
              "0  16169f    2             1  ...                   2         1  97\n",
              "1  1009bf    2             1  ...                  99         1  97\n",
              "2  167386    1             2  ...                  99         1   2\n",
              "3  0b5948    2             2  ...                  99         1   2\n",
              "4  0d01b5    1             2  ...                  99         1   2\n",
              "\n",
              "[5 rows x 23 columns]"
            ]
          },
          "metadata": {
            "tags": []
          },
          "execution_count": 50
        }
      ]
    },
    {
      "cell_type": "code",
      "metadata": {
        "id": "rtw3caBhgEEL",
        "colab": {
          "base_uri": "https://localhost:8080/",
          "height": 0
        },
        "outputId": "274021b2-169d-4b16-a74c-574a6d426ee2"
      },
      "source": [
        "df.columns"
      ],
      "execution_count": 51,
      "outputs": [
        {
          "output_type": "execute_result",
          "data": {
            "text/plain": [
              "Index(['id', 'sex', 'patient_type', 'entry_date', 'date_symptoms', 'date_died',\n",
              "       'intubed', 'pneumonia', 'age', 'pregnancy', 'diabetes', 'copd',\n",
              "       'asthma', 'inmsupr', 'hypertension', 'other_disease', 'cardiovascular',\n",
              "       'obesity', 'renal_chronic', 'tobacco', 'contact_other_covid',\n",
              "       'covid_res', 'icu'],\n",
              "      dtype='object')"
            ]
          },
          "metadata": {
            "tags": []
          },
          "execution_count": 51
        }
      ]
    },
    {
      "cell_type": "code",
      "metadata": {
        "id": "aoJWJoQDgEEO",
        "colab": {
          "base_uri": "https://localhost:8080/",
          "height": 317
        },
        "outputId": "a361a21e-b45e-4882-8167-591eb765b5b8"
      },
      "source": [
        "df.describe()"
      ],
      "execution_count": 52,
      "outputs": [
        {
          "output_type": "execute_result",
          "data": {
            "text/html": [
              "<div>\n",
              "<style scoped>\n",
              "    .dataframe tbody tr th:only-of-type {\n",
              "        vertical-align: middle;\n",
              "    }\n",
              "\n",
              "    .dataframe tbody tr th {\n",
              "        vertical-align: top;\n",
              "    }\n",
              "\n",
              "    .dataframe thead th {\n",
              "        text-align: right;\n",
              "    }\n",
              "</style>\n",
              "<table border=\"1\" class=\"dataframe\">\n",
              "  <thead>\n",
              "    <tr style=\"text-align: right;\">\n",
              "      <th></th>\n",
              "      <th>sex</th>\n",
              "      <th>patient_type</th>\n",
              "      <th>intubed</th>\n",
              "      <th>pneumonia</th>\n",
              "      <th>age</th>\n",
              "      <th>pregnancy</th>\n",
              "      <th>diabetes</th>\n",
              "      <th>copd</th>\n",
              "      <th>asthma</th>\n",
              "      <th>inmsupr</th>\n",
              "      <th>hypertension</th>\n",
              "      <th>other_disease</th>\n",
              "      <th>cardiovascular</th>\n",
              "      <th>obesity</th>\n",
              "      <th>renal_chronic</th>\n",
              "      <th>tobacco</th>\n",
              "      <th>contact_other_covid</th>\n",
              "      <th>covid_res</th>\n",
              "      <th>icu</th>\n",
              "    </tr>\n",
              "  </thead>\n",
              "  <tbody>\n",
              "    <tr>\n",
              "      <th>count</th>\n",
              "      <td>566602.000000</td>\n",
              "      <td>566602.000000</td>\n",
              "      <td>566602.000000</td>\n",
              "      <td>566602.000000</td>\n",
              "      <td>566602.000000</td>\n",
              "      <td>566602.000000</td>\n",
              "      <td>566602.000000</td>\n",
              "      <td>566602.000000</td>\n",
              "      <td>566602.000000</td>\n",
              "      <td>566602.000000</td>\n",
              "      <td>566602.000000</td>\n",
              "      <td>566602.000000</td>\n",
              "      <td>566602.000000</td>\n",
              "      <td>566602.000000</td>\n",
              "      <td>566602.000000</td>\n",
              "      <td>566602.000000</td>\n",
              "      <td>566602.000000</td>\n",
              "      <td>566602.000000</td>\n",
              "      <td>566602.000000</td>\n",
              "    </tr>\n",
              "    <tr>\n",
              "      <th>mean</th>\n",
              "      <td>1.506726</td>\n",
              "      <td>1.215165</td>\n",
              "      <td>76.562952</td>\n",
              "      <td>1.846262</td>\n",
              "      <td>42.622483</td>\n",
              "      <td>50.400692</td>\n",
              "      <td>2.210633</td>\n",
              "      <td>2.280221</td>\n",
              "      <td>2.265029</td>\n",
              "      <td>2.319628</td>\n",
              "      <td>2.145774</td>\n",
              "      <td>2.410030</td>\n",
              "      <td>2.286157</td>\n",
              "      <td>2.138905</td>\n",
              "      <td>2.283765</td>\n",
              "      <td>2.238360</td>\n",
              "      <td>31.573034</td>\n",
              "      <td>1.728651</td>\n",
              "      <td>76.562864</td>\n",
              "    </tr>\n",
              "    <tr>\n",
              "      <th>std</th>\n",
              "      <td>0.499955</td>\n",
              "      <td>0.410937</td>\n",
              "      <td>39.058676</td>\n",
              "      <td>0.560939</td>\n",
              "      <td>16.659973</td>\n",
              "      <td>47.501579</td>\n",
              "      <td>5.683523</td>\n",
              "      <td>5.327832</td>\n",
              "      <td>5.334658</td>\n",
              "      <td>5.667381</td>\n",
              "      <td>5.459866</td>\n",
              "      <td>6.489959</td>\n",
              "      <td>5.438405</td>\n",
              "      <td>5.395578</td>\n",
              "      <td>5.393232</td>\n",
              "      <td>5.571901</td>\n",
              "      <td>45.082123</td>\n",
              "      <td>0.658710</td>\n",
              "      <td>39.059060</td>\n",
              "    </tr>\n",
              "    <tr>\n",
              "      <th>min</th>\n",
              "      <td>1.000000</td>\n",
              "      <td>1.000000</td>\n",
              "      <td>1.000000</td>\n",
              "      <td>1.000000</td>\n",
              "      <td>0.000000</td>\n",
              "      <td>1.000000</td>\n",
              "      <td>1.000000</td>\n",
              "      <td>1.000000</td>\n",
              "      <td>1.000000</td>\n",
              "      <td>1.000000</td>\n",
              "      <td>1.000000</td>\n",
              "      <td>1.000000</td>\n",
              "      <td>1.000000</td>\n",
              "      <td>1.000000</td>\n",
              "      <td>1.000000</td>\n",
              "      <td>1.000000</td>\n",
              "      <td>1.000000</td>\n",
              "      <td>1.000000</td>\n",
              "      <td>1.000000</td>\n",
              "    </tr>\n",
              "    <tr>\n",
              "      <th>25%</th>\n",
              "      <td>1.000000</td>\n",
              "      <td>1.000000</td>\n",
              "      <td>97.000000</td>\n",
              "      <td>2.000000</td>\n",
              "      <td>31.000000</td>\n",
              "      <td>2.000000</td>\n",
              "      <td>2.000000</td>\n",
              "      <td>2.000000</td>\n",
              "      <td>2.000000</td>\n",
              "      <td>2.000000</td>\n",
              "      <td>2.000000</td>\n",
              "      <td>2.000000</td>\n",
              "      <td>2.000000</td>\n",
              "      <td>2.000000</td>\n",
              "      <td>2.000000</td>\n",
              "      <td>2.000000</td>\n",
              "      <td>1.000000</td>\n",
              "      <td>1.000000</td>\n",
              "      <td>97.000000</td>\n",
              "    </tr>\n",
              "    <tr>\n",
              "      <th>50%</th>\n",
              "      <td>2.000000</td>\n",
              "      <td>1.000000</td>\n",
              "      <td>97.000000</td>\n",
              "      <td>2.000000</td>\n",
              "      <td>41.000000</td>\n",
              "      <td>97.000000</td>\n",
              "      <td>2.000000</td>\n",
              "      <td>2.000000</td>\n",
              "      <td>2.000000</td>\n",
              "      <td>2.000000</td>\n",
              "      <td>2.000000</td>\n",
              "      <td>2.000000</td>\n",
              "      <td>2.000000</td>\n",
              "      <td>2.000000</td>\n",
              "      <td>2.000000</td>\n",
              "      <td>2.000000</td>\n",
              "      <td>2.000000</td>\n",
              "      <td>2.000000</td>\n",
              "      <td>97.000000</td>\n",
              "    </tr>\n",
              "    <tr>\n",
              "      <th>75%</th>\n",
              "      <td>2.000000</td>\n",
              "      <td>1.000000</td>\n",
              "      <td>97.000000</td>\n",
              "      <td>2.000000</td>\n",
              "      <td>53.000000</td>\n",
              "      <td>97.000000</td>\n",
              "      <td>2.000000</td>\n",
              "      <td>2.000000</td>\n",
              "      <td>2.000000</td>\n",
              "      <td>2.000000</td>\n",
              "      <td>2.000000</td>\n",
              "      <td>2.000000</td>\n",
              "      <td>2.000000</td>\n",
              "      <td>2.000000</td>\n",
              "      <td>2.000000</td>\n",
              "      <td>2.000000</td>\n",
              "      <td>99.000000</td>\n",
              "      <td>2.000000</td>\n",
              "      <td>97.000000</td>\n",
              "    </tr>\n",
              "    <tr>\n",
              "      <th>max</th>\n",
              "      <td>2.000000</td>\n",
              "      <td>2.000000</td>\n",
              "      <td>99.000000</td>\n",
              "      <td>99.000000</td>\n",
              "      <td>120.000000</td>\n",
              "      <td>98.000000</td>\n",
              "      <td>98.000000</td>\n",
              "      <td>98.000000</td>\n",
              "      <td>98.000000</td>\n",
              "      <td>98.000000</td>\n",
              "      <td>98.000000</td>\n",
              "      <td>98.000000</td>\n",
              "      <td>98.000000</td>\n",
              "      <td>98.000000</td>\n",
              "      <td>98.000000</td>\n",
              "      <td>98.000000</td>\n",
              "      <td>99.000000</td>\n",
              "      <td>3.000000</td>\n",
              "      <td>99.000000</td>\n",
              "    </tr>\n",
              "  </tbody>\n",
              "</table>\n",
              "</div>"
            ],
            "text/plain": [
              "                 sex   patient_type  ...      covid_res            icu\n",
              "count  566602.000000  566602.000000  ...  566602.000000  566602.000000\n",
              "mean        1.506726       1.215165  ...       1.728651      76.562864\n",
              "std         0.499955       0.410937  ...       0.658710      39.059060\n",
              "min         1.000000       1.000000  ...       1.000000       1.000000\n",
              "25%         1.000000       1.000000  ...       1.000000      97.000000\n",
              "50%         2.000000       1.000000  ...       2.000000      97.000000\n",
              "75%         2.000000       1.000000  ...       2.000000      97.000000\n",
              "max         2.000000       2.000000  ...       3.000000      99.000000\n",
              "\n",
              "[8 rows x 19 columns]"
            ]
          },
          "metadata": {
            "tags": []
          },
          "execution_count": 52
        }
      ]
    },
    {
      "cell_type": "code",
      "metadata": {
        "id": "dXd4t61LgEES",
        "colab": {
          "base_uri": "https://localhost:8080/",
          "height": 317
        },
        "outputId": "413be540-3418-44ba-c44c-68ecc3b1bfd0"
      },
      "source": [
        "# missing values\n",
        "# avoid acciendentally delete ages = 97,98,99\n",
        "\n",
        "#intubed\n",
        "df=df[df['intubed']!=99]\n",
        "df=df[df['intubed']!=98]\n",
        "df=df[df['intubed']!=97]\n",
        "\n",
        "#pneumonia\n",
        "df=df[df['pneumonia']!=99]\n",
        "df=df[df['pneumonia']!=98]\n",
        "df=df[df['pneumonia']!=97]\n",
        "\n",
        "#pregnancy\n",
        "df=df[df['pregnancy']!=99]\n",
        "df=df[df['pregnancy']!=98]\n",
        "df=df[df['pregnancy']!=97]\n",
        "\n",
        "#diabetes\n",
        "df=df[df['diabetes']!=99]\n",
        "df=df[df['diabetes']!=98]\n",
        "df=df[df['diabetes']!=97]\n",
        "\n",
        "#copd\n",
        "df=df[df['copd']!=99]\n",
        "df=df[df['copd']!=98]\n",
        "df=df[df['copd']!=97]\n",
        "\n",
        "#asthma\n",
        "df=df[df['asthma']!=99]\n",
        "df=df[df['asthma']!=98]\n",
        "df=df[df['asthma']!=97]\n",
        "\n",
        "#inmsupr\n",
        "df=df[df['inmsupr']!=99]\n",
        "df=df[df['inmsupr']!=98]\n",
        "df=df[df['inmsupr']!=97]\n",
        "\n",
        "#hypertension\n",
        "df=df[df['hypertension']!=99]\n",
        "df=df[df['hypertension']!=98]\n",
        "df=df[df['hypertension']!=97]\n",
        "\n",
        "#other_disease\n",
        "df=df[df['other_disease']!=99]\n",
        "df=df[df['other_disease']!=98]\n",
        "df=df[df['other_disease']!=97]\t\n",
        "\n",
        "#cardiovascular\n",
        "df=df[df['cardiovascular']!=99]\n",
        "df=df[df['cardiovascular']!=98]\n",
        "df=df[df['cardiovascular']!=97]\n",
        "\n",
        "#obesity\n",
        "df=df[df['obesity']!=99]\n",
        "df=df[df['obesity']!=98]\n",
        "df=df[df['obesity']!=97]\n",
        "\n",
        "#renal_chronic\t\n",
        "df=df[df['renal_chronic']!=99]\n",
        "df=df[df['renal_chronic']!=98]\n",
        "df=df[df['renal_chronic']!=97]\n",
        "\n",
        "#tobacco\n",
        "df=df[df['tobacco']!=99]\n",
        "df=df[df['tobacco']!=98]\n",
        "df=df[df['tobacco']!=97]\n",
        "\n",
        "#contact_other_covid\n",
        "df=df[df['contact_other_covid']!=99]\n",
        "df=df[df['contact_other_covid']!=98]\n",
        "df=df[df['contact_other_covid']!=97]\n",
        "\n",
        "#covid_res\n",
        "df=df[df['covid_res']!=99]\n",
        "df=df[df['covid_res']!=98]\n",
        "df=df[df['covid_res']!=97]\n",
        "\n",
        "#icu\n",
        "df=df[df['icu']!=99]\n",
        "df=df[df['icu']!=98]\n",
        "df=df[df['icu']!=97]\n",
        "\n",
        "df.head()\n",
        "df.describe()"
      ],
      "execution_count": 53,
      "outputs": [
        {
          "output_type": "execute_result",
          "data": {
            "text/html": [
              "<div>\n",
              "<style scoped>\n",
              "    .dataframe tbody tr th:only-of-type {\n",
              "        vertical-align: middle;\n",
              "    }\n",
              "\n",
              "    .dataframe tbody tr th {\n",
              "        vertical-align: top;\n",
              "    }\n",
              "\n",
              "    .dataframe thead th {\n",
              "        text-align: right;\n",
              "    }\n",
              "</style>\n",
              "<table border=\"1\" class=\"dataframe\">\n",
              "  <thead>\n",
              "    <tr style=\"text-align: right;\">\n",
              "      <th></th>\n",
              "      <th>sex</th>\n",
              "      <th>patient_type</th>\n",
              "      <th>intubed</th>\n",
              "      <th>pneumonia</th>\n",
              "      <th>age</th>\n",
              "      <th>pregnancy</th>\n",
              "      <th>diabetes</th>\n",
              "      <th>copd</th>\n",
              "      <th>asthma</th>\n",
              "      <th>inmsupr</th>\n",
              "      <th>hypertension</th>\n",
              "      <th>other_disease</th>\n",
              "      <th>cardiovascular</th>\n",
              "      <th>obesity</th>\n",
              "      <th>renal_chronic</th>\n",
              "      <th>tobacco</th>\n",
              "      <th>contact_other_covid</th>\n",
              "      <th>covid_res</th>\n",
              "      <th>icu</th>\n",
              "    </tr>\n",
              "  </thead>\n",
              "  <tbody>\n",
              "    <tr>\n",
              "      <th>count</th>\n",
              "      <td>23158.0</td>\n",
              "      <td>23158.0</td>\n",
              "      <td>23158.000000</td>\n",
              "      <td>23158.000000</td>\n",
              "      <td>23158.000000</td>\n",
              "      <td>23158.000000</td>\n",
              "      <td>23158.000000</td>\n",
              "      <td>23158.000000</td>\n",
              "      <td>23158.000000</td>\n",
              "      <td>23158.000000</td>\n",
              "      <td>23158.000000</td>\n",
              "      <td>23158.000000</td>\n",
              "      <td>23158.000000</td>\n",
              "      <td>23158.000000</td>\n",
              "      <td>23158.000000</td>\n",
              "      <td>23158.000000</td>\n",
              "      <td>23158.000000</td>\n",
              "      <td>23158.000000</td>\n",
              "      <td>23158.000000</td>\n",
              "    </tr>\n",
              "    <tr>\n",
              "      <th>mean</th>\n",
              "      <td>1.0</td>\n",
              "      <td>2.0</td>\n",
              "      <td>1.889412</td>\n",
              "      <td>1.351585</td>\n",
              "      <td>50.538734</td>\n",
              "      <td>1.975775</td>\n",
              "      <td>1.708481</td>\n",
              "      <td>1.954098</td>\n",
              "      <td>1.966016</td>\n",
              "      <td>1.959280</td>\n",
              "      <td>1.674281</td>\n",
              "      <td>1.955825</td>\n",
              "      <td>1.946455</td>\n",
              "      <td>1.767337</td>\n",
              "      <td>1.952716</td>\n",
              "      <td>1.956084</td>\n",
              "      <td>1.693454</td>\n",
              "      <td>1.607090</td>\n",
              "      <td>1.883496</td>\n",
              "    </tr>\n",
              "    <tr>\n",
              "      <th>std</th>\n",
              "      <td>0.0</td>\n",
              "      <td>0.0</td>\n",
              "      <td>0.313628</td>\n",
              "      <td>0.477475</td>\n",
              "      <td>20.730387</td>\n",
              "      <td>0.153750</td>\n",
              "      <td>0.454472</td>\n",
              "      <td>0.209277</td>\n",
              "      <td>0.181192</td>\n",
              "      <td>0.197646</td>\n",
              "      <td>0.468653</td>\n",
              "      <td>0.205488</td>\n",
              "      <td>0.225123</td>\n",
              "      <td>0.422538</td>\n",
              "      <td>0.212250</td>\n",
              "      <td>0.204912</td>\n",
              "      <td>0.461069</td>\n",
              "      <td>0.693461</td>\n",
              "      <td>0.320835</td>\n",
              "    </tr>\n",
              "    <tr>\n",
              "      <th>min</th>\n",
              "      <td>1.0</td>\n",
              "      <td>2.0</td>\n",
              "      <td>1.000000</td>\n",
              "      <td>1.000000</td>\n",
              "      <td>0.000000</td>\n",
              "      <td>1.000000</td>\n",
              "      <td>1.000000</td>\n",
              "      <td>1.000000</td>\n",
              "      <td>1.000000</td>\n",
              "      <td>1.000000</td>\n",
              "      <td>1.000000</td>\n",
              "      <td>1.000000</td>\n",
              "      <td>1.000000</td>\n",
              "      <td>1.000000</td>\n",
              "      <td>1.000000</td>\n",
              "      <td>1.000000</td>\n",
              "      <td>1.000000</td>\n",
              "      <td>1.000000</td>\n",
              "      <td>1.000000</td>\n",
              "    </tr>\n",
              "    <tr>\n",
              "      <th>25%</th>\n",
              "      <td>1.0</td>\n",
              "      <td>2.0</td>\n",
              "      <td>2.000000</td>\n",
              "      <td>1.000000</td>\n",
              "      <td>37.000000</td>\n",
              "      <td>2.000000</td>\n",
              "      <td>1.000000</td>\n",
              "      <td>2.000000</td>\n",
              "      <td>2.000000</td>\n",
              "      <td>2.000000</td>\n",
              "      <td>1.000000</td>\n",
              "      <td>2.000000</td>\n",
              "      <td>2.000000</td>\n",
              "      <td>2.000000</td>\n",
              "      <td>2.000000</td>\n",
              "      <td>2.000000</td>\n",
              "      <td>1.000000</td>\n",
              "      <td>1.000000</td>\n",
              "      <td>2.000000</td>\n",
              "    </tr>\n",
              "    <tr>\n",
              "      <th>50%</th>\n",
              "      <td>1.0</td>\n",
              "      <td>2.0</td>\n",
              "      <td>2.000000</td>\n",
              "      <td>1.000000</td>\n",
              "      <td>52.000000</td>\n",
              "      <td>2.000000</td>\n",
              "      <td>2.000000</td>\n",
              "      <td>2.000000</td>\n",
              "      <td>2.000000</td>\n",
              "      <td>2.000000</td>\n",
              "      <td>2.000000</td>\n",
              "      <td>2.000000</td>\n",
              "      <td>2.000000</td>\n",
              "      <td>2.000000</td>\n",
              "      <td>2.000000</td>\n",
              "      <td>2.000000</td>\n",
              "      <td>2.000000</td>\n",
              "      <td>1.000000</td>\n",
              "      <td>2.000000</td>\n",
              "    </tr>\n",
              "    <tr>\n",
              "      <th>75%</th>\n",
              "      <td>1.0</td>\n",
              "      <td>2.0</td>\n",
              "      <td>2.000000</td>\n",
              "      <td>2.000000</td>\n",
              "      <td>65.000000</td>\n",
              "      <td>2.000000</td>\n",
              "      <td>2.000000</td>\n",
              "      <td>2.000000</td>\n",
              "      <td>2.000000</td>\n",
              "      <td>2.000000</td>\n",
              "      <td>2.000000</td>\n",
              "      <td>2.000000</td>\n",
              "      <td>2.000000</td>\n",
              "      <td>2.000000</td>\n",
              "      <td>2.000000</td>\n",
              "      <td>2.000000</td>\n",
              "      <td>2.000000</td>\n",
              "      <td>2.000000</td>\n",
              "      <td>2.000000</td>\n",
              "    </tr>\n",
              "    <tr>\n",
              "      <th>max</th>\n",
              "      <td>1.0</td>\n",
              "      <td>2.0</td>\n",
              "      <td>2.000000</td>\n",
              "      <td>2.000000</td>\n",
              "      <td>115.000000</td>\n",
              "      <td>2.000000</td>\n",
              "      <td>2.000000</td>\n",
              "      <td>2.000000</td>\n",
              "      <td>2.000000</td>\n",
              "      <td>2.000000</td>\n",
              "      <td>2.000000</td>\n",
              "      <td>2.000000</td>\n",
              "      <td>2.000000</td>\n",
              "      <td>2.000000</td>\n",
              "      <td>2.000000</td>\n",
              "      <td>2.000000</td>\n",
              "      <td>2.000000</td>\n",
              "      <td>3.000000</td>\n",
              "      <td>2.000000</td>\n",
              "    </tr>\n",
              "  </tbody>\n",
              "</table>\n",
              "</div>"
            ],
            "text/plain": [
              "           sex  patient_type  ...     covid_res           icu\n",
              "count  23158.0       23158.0  ...  23158.000000  23158.000000\n",
              "mean       1.0           2.0  ...      1.607090      1.883496\n",
              "std        0.0           0.0  ...      0.693461      0.320835\n",
              "min        1.0           2.0  ...      1.000000      1.000000\n",
              "25%        1.0           2.0  ...      1.000000      2.000000\n",
              "50%        1.0           2.0  ...      1.000000      2.000000\n",
              "75%        1.0           2.0  ...      2.000000      2.000000\n",
              "max        1.0           2.0  ...      3.000000      2.000000\n",
              "\n",
              "[8 rows x 19 columns]"
            ]
          },
          "metadata": {
            "tags": []
          },
          "execution_count": 53
        }
      ]
    },
    {
      "cell_type": "code",
      "metadata": {
        "id": "ONvpydvIgEEb"
      },
      "source": [
        "# all sex = 1 and all patient_type = 2, drop the first two columns: only focus on female inpatient\n",
        "# we don't care about id: drop it"
      ],
      "execution_count": null,
      "outputs": []
    },
    {
      "cell_type": "code",
      "metadata": {
        "id": "geHZMqiRgEEh",
        "colab": {
          "base_uri": "https://localhost:8080/",
          "height": 224
        },
        "outputId": "a2543b51-ed90-423c-8673-ff6b640c955d"
      },
      "source": [
        "df = df.drop(['id','sex','patient_type'], axis = 1) \n",
        "\n",
        "df.describe()\n",
        "df.head()"
      ],
      "execution_count": 54,
      "outputs": [
        {
          "output_type": "execute_result",
          "data": {
            "text/html": [
              "<div>\n",
              "<style scoped>\n",
              "    .dataframe tbody tr th:only-of-type {\n",
              "        vertical-align: middle;\n",
              "    }\n",
              "\n",
              "    .dataframe tbody tr th {\n",
              "        vertical-align: top;\n",
              "    }\n",
              "\n",
              "    .dataframe thead th {\n",
              "        text-align: right;\n",
              "    }\n",
              "</style>\n",
              "<table border=\"1\" class=\"dataframe\">\n",
              "  <thead>\n",
              "    <tr style=\"text-align: right;\">\n",
              "      <th></th>\n",
              "      <th>entry_date</th>\n",
              "      <th>date_symptoms</th>\n",
              "      <th>date_died</th>\n",
              "      <th>intubed</th>\n",
              "      <th>pneumonia</th>\n",
              "      <th>age</th>\n",
              "      <th>pregnancy</th>\n",
              "      <th>diabetes</th>\n",
              "      <th>copd</th>\n",
              "      <th>asthma</th>\n",
              "      <th>inmsupr</th>\n",
              "      <th>hypertension</th>\n",
              "      <th>other_disease</th>\n",
              "      <th>cardiovascular</th>\n",
              "      <th>obesity</th>\n",
              "      <th>renal_chronic</th>\n",
              "      <th>tobacco</th>\n",
              "      <th>contact_other_covid</th>\n",
              "      <th>covid_res</th>\n",
              "      <th>icu</th>\n",
              "    </tr>\n",
              "  </thead>\n",
              "  <tbody>\n",
              "    <tr>\n",
              "      <th>21</th>\n",
              "      <td>02-06-2020</td>\n",
              "      <td>02-06-2020</td>\n",
              "      <td>9999-99-99</td>\n",
              "      <td>2</td>\n",
              "      <td>2</td>\n",
              "      <td>25</td>\n",
              "      <td>2</td>\n",
              "      <td>2</td>\n",
              "      <td>2</td>\n",
              "      <td>2</td>\n",
              "      <td>2</td>\n",
              "      <td>2</td>\n",
              "      <td>2</td>\n",
              "      <td>2</td>\n",
              "      <td>2</td>\n",
              "      <td>2</td>\n",
              "      <td>2</td>\n",
              "      <td>1</td>\n",
              "      <td>1</td>\n",
              "      <td>2</td>\n",
              "    </tr>\n",
              "    <tr>\n",
              "      <th>30</th>\n",
              "      <td>22-06-2020</td>\n",
              "      <td>17-06-2020</td>\n",
              "      <td>9999-99-99</td>\n",
              "      <td>2</td>\n",
              "      <td>2</td>\n",
              "      <td>52</td>\n",
              "      <td>2</td>\n",
              "      <td>2</td>\n",
              "      <td>2</td>\n",
              "      <td>2</td>\n",
              "      <td>2</td>\n",
              "      <td>2</td>\n",
              "      <td>2</td>\n",
              "      <td>2</td>\n",
              "      <td>1</td>\n",
              "      <td>2</td>\n",
              "      <td>1</td>\n",
              "      <td>1</td>\n",
              "      <td>1</td>\n",
              "      <td>2</td>\n",
              "    </tr>\n",
              "    <tr>\n",
              "      <th>71</th>\n",
              "      <td>17-06-2020</td>\n",
              "      <td>12-06-2020</td>\n",
              "      <td>9999-99-99</td>\n",
              "      <td>2</td>\n",
              "      <td>1</td>\n",
              "      <td>51</td>\n",
              "      <td>2</td>\n",
              "      <td>2</td>\n",
              "      <td>2</td>\n",
              "      <td>2</td>\n",
              "      <td>2</td>\n",
              "      <td>2</td>\n",
              "      <td>2</td>\n",
              "      <td>2</td>\n",
              "      <td>2</td>\n",
              "      <td>2</td>\n",
              "      <td>2</td>\n",
              "      <td>1</td>\n",
              "      <td>1</td>\n",
              "      <td>2</td>\n",
              "    </tr>\n",
              "    <tr>\n",
              "      <th>79</th>\n",
              "      <td>08-06-2020</td>\n",
              "      <td>07-06-2020</td>\n",
              "      <td>9999-99-99</td>\n",
              "      <td>1</td>\n",
              "      <td>1</td>\n",
              "      <td>67</td>\n",
              "      <td>2</td>\n",
              "      <td>1</td>\n",
              "      <td>2</td>\n",
              "      <td>2</td>\n",
              "      <td>2</td>\n",
              "      <td>1</td>\n",
              "      <td>2</td>\n",
              "      <td>2</td>\n",
              "      <td>1</td>\n",
              "      <td>2</td>\n",
              "      <td>2</td>\n",
              "      <td>1</td>\n",
              "      <td>1</td>\n",
              "      <td>2</td>\n",
              "    </tr>\n",
              "    <tr>\n",
              "      <th>93</th>\n",
              "      <td>27-05-2020</td>\n",
              "      <td>27-05-2020</td>\n",
              "      <td>9999-99-99</td>\n",
              "      <td>2</td>\n",
              "      <td>1</td>\n",
              "      <td>59</td>\n",
              "      <td>2</td>\n",
              "      <td>1</td>\n",
              "      <td>2</td>\n",
              "      <td>2</td>\n",
              "      <td>2</td>\n",
              "      <td>2</td>\n",
              "      <td>2</td>\n",
              "      <td>2</td>\n",
              "      <td>2</td>\n",
              "      <td>2</td>\n",
              "      <td>2</td>\n",
              "      <td>1</td>\n",
              "      <td>1</td>\n",
              "      <td>2</td>\n",
              "    </tr>\n",
              "  </tbody>\n",
              "</table>\n",
              "</div>"
            ],
            "text/plain": [
              "    entry_date date_symptoms   date_died  ...  contact_other_covid  covid_res  icu\n",
              "21  02-06-2020    02-06-2020  9999-99-99  ...                    1          1    2\n",
              "30  22-06-2020    17-06-2020  9999-99-99  ...                    1          1    2\n",
              "71  17-06-2020    12-06-2020  9999-99-99  ...                    1          1    2\n",
              "79  08-06-2020    07-06-2020  9999-99-99  ...                    1          1    2\n",
              "93  27-05-2020    27-05-2020  9999-99-99  ...                    1          1    2\n",
              "\n",
              "[5 rows x 20 columns]"
            ]
          },
          "metadata": {
            "tags": []
          },
          "execution_count": 54
        }
      ]
    },
    {
      "cell_type": "code",
      "metadata": {
        "id": "CzPt_hT_gEEj",
        "colab": {
          "base_uri": "https://localhost:8080/",
          "height": 224
        },
        "outputId": "d02a0860-c4c9-43aa-f6a8-6600f5317b4b"
      },
      "source": [
        "# New column fatality: Yes-dead; No-Recovered\n",
        "# df['fatality'] = np.where(df['date_died'] != '9999-99-99', 'Yes', 'No')\n",
        "df['fatality'] = np.where(df['date_died'] != '9999-99-99', 1, 2)\n",
        "\n",
        "# calculate entry - symptoms; only include valid records\n",
        "df['entry_symptoms'] = pd.DataFrame(pd.to_datetime(df['entry_date']) - pd.to_datetime(df['date_symptoms']))\n",
        "\n",
        "# dropping units\n",
        "df['entry_symptoms'] = pd.to_numeric(df['entry_symptoms'].astype(str).str[:-4], errors='coerce')\n",
        "\n",
        "# only include valid records\n",
        "df = df[df['entry_symptoms'] >= 0]\n",
        "\n",
        "df.head()"
      ],
      "execution_count": 55,
      "outputs": [
        {
          "output_type": "execute_result",
          "data": {
            "text/html": [
              "<div>\n",
              "<style scoped>\n",
              "    .dataframe tbody tr th:only-of-type {\n",
              "        vertical-align: middle;\n",
              "    }\n",
              "\n",
              "    .dataframe tbody tr th {\n",
              "        vertical-align: top;\n",
              "    }\n",
              "\n",
              "    .dataframe thead th {\n",
              "        text-align: right;\n",
              "    }\n",
              "</style>\n",
              "<table border=\"1\" class=\"dataframe\">\n",
              "  <thead>\n",
              "    <tr style=\"text-align: right;\">\n",
              "      <th></th>\n",
              "      <th>entry_date</th>\n",
              "      <th>date_symptoms</th>\n",
              "      <th>date_died</th>\n",
              "      <th>intubed</th>\n",
              "      <th>pneumonia</th>\n",
              "      <th>age</th>\n",
              "      <th>pregnancy</th>\n",
              "      <th>diabetes</th>\n",
              "      <th>copd</th>\n",
              "      <th>asthma</th>\n",
              "      <th>inmsupr</th>\n",
              "      <th>hypertension</th>\n",
              "      <th>other_disease</th>\n",
              "      <th>cardiovascular</th>\n",
              "      <th>obesity</th>\n",
              "      <th>renal_chronic</th>\n",
              "      <th>tobacco</th>\n",
              "      <th>contact_other_covid</th>\n",
              "      <th>covid_res</th>\n",
              "      <th>icu</th>\n",
              "      <th>fatality</th>\n",
              "      <th>entry_symptoms</th>\n",
              "    </tr>\n",
              "  </thead>\n",
              "  <tbody>\n",
              "    <tr>\n",
              "      <th>21</th>\n",
              "      <td>02-06-2020</td>\n",
              "      <td>02-06-2020</td>\n",
              "      <td>9999-99-99</td>\n",
              "      <td>2</td>\n",
              "      <td>2</td>\n",
              "      <td>25</td>\n",
              "      <td>2</td>\n",
              "      <td>2</td>\n",
              "      <td>2</td>\n",
              "      <td>2</td>\n",
              "      <td>2</td>\n",
              "      <td>2</td>\n",
              "      <td>2</td>\n",
              "      <td>2</td>\n",
              "      <td>2</td>\n",
              "      <td>2</td>\n",
              "      <td>2</td>\n",
              "      <td>1</td>\n",
              "      <td>1</td>\n",
              "      <td>2</td>\n",
              "      <td>2</td>\n",
              "      <td>0</td>\n",
              "    </tr>\n",
              "    <tr>\n",
              "      <th>30</th>\n",
              "      <td>22-06-2020</td>\n",
              "      <td>17-06-2020</td>\n",
              "      <td>9999-99-99</td>\n",
              "      <td>2</td>\n",
              "      <td>2</td>\n",
              "      <td>52</td>\n",
              "      <td>2</td>\n",
              "      <td>2</td>\n",
              "      <td>2</td>\n",
              "      <td>2</td>\n",
              "      <td>2</td>\n",
              "      <td>2</td>\n",
              "      <td>2</td>\n",
              "      <td>2</td>\n",
              "      <td>1</td>\n",
              "      <td>2</td>\n",
              "      <td>1</td>\n",
              "      <td>1</td>\n",
              "      <td>1</td>\n",
              "      <td>2</td>\n",
              "      <td>2</td>\n",
              "      <td>5</td>\n",
              "    </tr>\n",
              "    <tr>\n",
              "      <th>79</th>\n",
              "      <td>08-06-2020</td>\n",
              "      <td>07-06-2020</td>\n",
              "      <td>9999-99-99</td>\n",
              "      <td>1</td>\n",
              "      <td>1</td>\n",
              "      <td>67</td>\n",
              "      <td>2</td>\n",
              "      <td>1</td>\n",
              "      <td>2</td>\n",
              "      <td>2</td>\n",
              "      <td>2</td>\n",
              "      <td>1</td>\n",
              "      <td>2</td>\n",
              "      <td>2</td>\n",
              "      <td>1</td>\n",
              "      <td>2</td>\n",
              "      <td>2</td>\n",
              "      <td>1</td>\n",
              "      <td>1</td>\n",
              "      <td>2</td>\n",
              "      <td>2</td>\n",
              "      <td>31</td>\n",
              "    </tr>\n",
              "    <tr>\n",
              "      <th>93</th>\n",
              "      <td>27-05-2020</td>\n",
              "      <td>27-05-2020</td>\n",
              "      <td>9999-99-99</td>\n",
              "      <td>2</td>\n",
              "      <td>1</td>\n",
              "      <td>59</td>\n",
              "      <td>2</td>\n",
              "      <td>1</td>\n",
              "      <td>2</td>\n",
              "      <td>2</td>\n",
              "      <td>2</td>\n",
              "      <td>2</td>\n",
              "      <td>2</td>\n",
              "      <td>2</td>\n",
              "      <td>2</td>\n",
              "      <td>2</td>\n",
              "      <td>2</td>\n",
              "      <td>1</td>\n",
              "      <td>1</td>\n",
              "      <td>2</td>\n",
              "      <td>2</td>\n",
              "      <td>0</td>\n",
              "    </tr>\n",
              "    <tr>\n",
              "      <th>215</th>\n",
              "      <td>22-05-2020</td>\n",
              "      <td>20-05-2020</td>\n",
              "      <td>9999-99-99</td>\n",
              "      <td>2</td>\n",
              "      <td>2</td>\n",
              "      <td>52</td>\n",
              "      <td>2</td>\n",
              "      <td>1</td>\n",
              "      <td>2</td>\n",
              "      <td>2</td>\n",
              "      <td>2</td>\n",
              "      <td>1</td>\n",
              "      <td>2</td>\n",
              "      <td>1</td>\n",
              "      <td>2</td>\n",
              "      <td>2</td>\n",
              "      <td>2</td>\n",
              "      <td>2</td>\n",
              "      <td>1</td>\n",
              "      <td>2</td>\n",
              "      <td>2</td>\n",
              "      <td>2</td>\n",
              "    </tr>\n",
              "  </tbody>\n",
              "</table>\n",
              "</div>"
            ],
            "text/plain": [
              "     entry_date date_symptoms   date_died  ...  icu  fatality  entry_symptoms\n",
              "21   02-06-2020    02-06-2020  9999-99-99  ...    2         2               0\n",
              "30   22-06-2020    17-06-2020  9999-99-99  ...    2         2               5\n",
              "79   08-06-2020    07-06-2020  9999-99-99  ...    2         2              31\n",
              "93   27-05-2020    27-05-2020  9999-99-99  ...    2         2               0\n",
              "215  22-05-2020    20-05-2020  9999-99-99  ...    2         2               2\n",
              "\n",
              "[5 rows x 22 columns]"
            ]
          },
          "metadata": {
            "tags": []
          },
          "execution_count": 55
        }
      ]
    },
    {
      "cell_type": "code",
      "metadata": {
        "id": "7LCt5XUWgEEm",
        "colab": {
          "base_uri": "https://localhost:8080/",
          "height": 317
        },
        "outputId": "3a5a01d9-badf-4947-9229-f3c71638b557"
      },
      "source": [
        "# drop useless columns\n",
        "df = df.drop(['entry_date','date_symptoms','date_died'], axis = 1) \n",
        "\n",
        "df.describe()"
      ],
      "execution_count": 56,
      "outputs": [
        {
          "output_type": "execute_result",
          "data": {
            "text/html": [
              "<div>\n",
              "<style scoped>\n",
              "    .dataframe tbody tr th:only-of-type {\n",
              "        vertical-align: middle;\n",
              "    }\n",
              "\n",
              "    .dataframe tbody tr th {\n",
              "        vertical-align: top;\n",
              "    }\n",
              "\n",
              "    .dataframe thead th {\n",
              "        text-align: right;\n",
              "    }\n",
              "</style>\n",
              "<table border=\"1\" class=\"dataframe\">\n",
              "  <thead>\n",
              "    <tr style=\"text-align: right;\">\n",
              "      <th></th>\n",
              "      <th>intubed</th>\n",
              "      <th>pneumonia</th>\n",
              "      <th>age</th>\n",
              "      <th>pregnancy</th>\n",
              "      <th>diabetes</th>\n",
              "      <th>copd</th>\n",
              "      <th>asthma</th>\n",
              "      <th>inmsupr</th>\n",
              "      <th>hypertension</th>\n",
              "      <th>other_disease</th>\n",
              "      <th>cardiovascular</th>\n",
              "      <th>obesity</th>\n",
              "      <th>renal_chronic</th>\n",
              "      <th>tobacco</th>\n",
              "      <th>contact_other_covid</th>\n",
              "      <th>covid_res</th>\n",
              "      <th>icu</th>\n",
              "      <th>fatality</th>\n",
              "      <th>entry_symptoms</th>\n",
              "    </tr>\n",
              "  </thead>\n",
              "  <tbody>\n",
              "    <tr>\n",
              "      <th>count</th>\n",
              "      <td>18458.000000</td>\n",
              "      <td>18458.000000</td>\n",
              "      <td>18458.000000</td>\n",
              "      <td>18458.000000</td>\n",
              "      <td>18458.000000</td>\n",
              "      <td>18458.000000</td>\n",
              "      <td>18458.000000</td>\n",
              "      <td>18458.000000</td>\n",
              "      <td>18458.000000</td>\n",
              "      <td>18458.000000</td>\n",
              "      <td>18458.000000</td>\n",
              "      <td>18458.000000</td>\n",
              "      <td>18458.000000</td>\n",
              "      <td>18458.000000</td>\n",
              "      <td>18458.000000</td>\n",
              "      <td>18458.000000</td>\n",
              "      <td>18458.000000</td>\n",
              "      <td>18458.000000</td>\n",
              "      <td>18458.000000</td>\n",
              "    </tr>\n",
              "    <tr>\n",
              "      <th>mean</th>\n",
              "      <td>1.889479</td>\n",
              "      <td>1.366508</td>\n",
              "      <td>50.030285</td>\n",
              "      <td>1.974808</td>\n",
              "      <td>1.711561</td>\n",
              "      <td>1.953624</td>\n",
              "      <td>1.966410</td>\n",
              "      <td>1.958338</td>\n",
              "      <td>1.681006</td>\n",
              "      <td>1.954383</td>\n",
              "      <td>1.946527</td>\n",
              "      <td>1.776303</td>\n",
              "      <td>1.951457</td>\n",
              "      <td>1.957688</td>\n",
              "      <td>1.695092</td>\n",
              "      <td>1.643407</td>\n",
              "      <td>1.883899</td>\n",
              "      <td>1.834381</td>\n",
              "      <td>34.553689</td>\n",
              "    </tr>\n",
              "    <tr>\n",
              "      <th>std</th>\n",
              "      <td>0.313547</td>\n",
              "      <td>0.481863</td>\n",
              "      <td>21.140026</td>\n",
              "      <td>0.156713</td>\n",
              "      <td>0.453048</td>\n",
              "      <td>0.210303</td>\n",
              "      <td>0.180176</td>\n",
              "      <td>0.199821</td>\n",
              "      <td>0.466100</td>\n",
              "      <td>0.208659</td>\n",
              "      <td>0.224980</td>\n",
              "      <td>0.416733</td>\n",
              "      <td>0.214916</td>\n",
              "      <td>0.201306</td>\n",
              "      <td>0.460381</td>\n",
              "      <td>0.702664</td>\n",
              "      <td>0.320355</td>\n",
              "      <td>0.371749</td>\n",
              "      <td>58.777321</td>\n",
              "    </tr>\n",
              "    <tr>\n",
              "      <th>min</th>\n",
              "      <td>1.000000</td>\n",
              "      <td>1.000000</td>\n",
              "      <td>0.000000</td>\n",
              "      <td>1.000000</td>\n",
              "      <td>1.000000</td>\n",
              "      <td>1.000000</td>\n",
              "      <td>1.000000</td>\n",
              "      <td>1.000000</td>\n",
              "      <td>1.000000</td>\n",
              "      <td>1.000000</td>\n",
              "      <td>1.000000</td>\n",
              "      <td>1.000000</td>\n",
              "      <td>1.000000</td>\n",
              "      <td>1.000000</td>\n",
              "      <td>1.000000</td>\n",
              "      <td>1.000000</td>\n",
              "      <td>1.000000</td>\n",
              "      <td>1.000000</td>\n",
              "      <td>0.000000</td>\n",
              "    </tr>\n",
              "    <tr>\n",
              "      <th>25%</th>\n",
              "      <td>2.000000</td>\n",
              "      <td>1.000000</td>\n",
              "      <td>36.000000</td>\n",
              "      <td>2.000000</td>\n",
              "      <td>1.000000</td>\n",
              "      <td>2.000000</td>\n",
              "      <td>2.000000</td>\n",
              "      <td>2.000000</td>\n",
              "      <td>1.000000</td>\n",
              "      <td>2.000000</td>\n",
              "      <td>2.000000</td>\n",
              "      <td>2.000000</td>\n",
              "      <td>2.000000</td>\n",
              "      <td>2.000000</td>\n",
              "      <td>1.000000</td>\n",
              "      <td>1.000000</td>\n",
              "      <td>2.000000</td>\n",
              "      <td>2.000000</td>\n",
              "      <td>2.000000</td>\n",
              "    </tr>\n",
              "    <tr>\n",
              "      <th>50%</th>\n",
              "      <td>2.000000</td>\n",
              "      <td>1.000000</td>\n",
              "      <td>52.000000</td>\n",
              "      <td>2.000000</td>\n",
              "      <td>2.000000</td>\n",
              "      <td>2.000000</td>\n",
              "      <td>2.000000</td>\n",
              "      <td>2.000000</td>\n",
              "      <td>2.000000</td>\n",
              "      <td>2.000000</td>\n",
              "      <td>2.000000</td>\n",
              "      <td>2.000000</td>\n",
              "      <td>2.000000</td>\n",
              "      <td>2.000000</td>\n",
              "      <td>2.000000</td>\n",
              "      <td>2.000000</td>\n",
              "      <td>2.000000</td>\n",
              "      <td>2.000000</td>\n",
              "      <td>5.000000</td>\n",
              "    </tr>\n",
              "    <tr>\n",
              "      <th>75%</th>\n",
              "      <td>2.000000</td>\n",
              "      <td>2.000000</td>\n",
              "      <td>65.000000</td>\n",
              "      <td>2.000000</td>\n",
              "      <td>2.000000</td>\n",
              "      <td>2.000000</td>\n",
              "      <td>2.000000</td>\n",
              "      <td>2.000000</td>\n",
              "      <td>2.000000</td>\n",
              "      <td>2.000000</td>\n",
              "      <td>2.000000</td>\n",
              "      <td>2.000000</td>\n",
              "      <td>2.000000</td>\n",
              "      <td>2.000000</td>\n",
              "      <td>2.000000</td>\n",
              "      <td>2.000000</td>\n",
              "      <td>2.000000</td>\n",
              "      <td>2.000000</td>\n",
              "      <td>39.000000</td>\n",
              "    </tr>\n",
              "    <tr>\n",
              "      <th>max</th>\n",
              "      <td>2.000000</td>\n",
              "      <td>2.000000</td>\n",
              "      <td>115.000000</td>\n",
              "      <td>2.000000</td>\n",
              "      <td>2.000000</td>\n",
              "      <td>2.000000</td>\n",
              "      <td>2.000000</td>\n",
              "      <td>2.000000</td>\n",
              "      <td>2.000000</td>\n",
              "      <td>2.000000</td>\n",
              "      <td>2.000000</td>\n",
              "      <td>2.000000</td>\n",
              "      <td>2.000000</td>\n",
              "      <td>2.000000</td>\n",
              "      <td>2.000000</td>\n",
              "      <td>3.000000</td>\n",
              "      <td>2.000000</td>\n",
              "      <td>2.000000</td>\n",
              "      <td>335.000000</td>\n",
              "    </tr>\n",
              "  </tbody>\n",
              "</table>\n",
              "</div>"
            ],
            "text/plain": [
              "            intubed     pneumonia  ...      fatality  entry_symptoms\n",
              "count  18458.000000  18458.000000  ...  18458.000000    18458.000000\n",
              "mean       1.889479      1.366508  ...      1.834381       34.553689\n",
              "std        0.313547      0.481863  ...      0.371749       58.777321\n",
              "min        1.000000      1.000000  ...      1.000000        0.000000\n",
              "25%        2.000000      1.000000  ...      2.000000        2.000000\n",
              "50%        2.000000      1.000000  ...      2.000000        5.000000\n",
              "75%        2.000000      2.000000  ...      2.000000       39.000000\n",
              "max        2.000000      2.000000  ...      2.000000      335.000000\n",
              "\n",
              "[8 rows x 19 columns]"
            ]
          },
          "metadata": {
            "tags": []
          },
          "execution_count": 56
        }
      ]
    },
    {
      "cell_type": "code",
      "metadata": {
        "id": "DwUN3RqOgEEq",
        "colab": {
          "base_uri": "https://localhost:8080/",
          "height": 265
        },
        "outputId": "21998fa3-2fa8-4d2b-e47b-3cfbd85eb661"
      },
      "source": [
        "conditions = [\n",
        "    (df['entry_symptoms'] <= 1),\n",
        "    (df['entry_symptoms'] > 1) & (df['entry_symptoms'] <= 3),\n",
        "    (df['entry_symptoms'] > 3) & (df['entry_symptoms'] <= 5),\n",
        "    (df['entry_symptoms'] > 5) & (df['entry_symptoms'] <= 10),\n",
        "    (df['entry_symptoms'] > 10)\n",
        "    ]\n",
        "\n",
        "values = ['0', '1', '3', '5','10']\n",
        "\n",
        "df['date_diff_level'] = np.select(conditions, values)\n",
        "\n",
        "plt.hist(df['date_diff_level'], edgecolor='k', alpha=0.35)\n",
        "plt.show()"
      ],
      "execution_count": 57,
      "outputs": [
        {
          "output_type": "display_data",
          "data": {
            "image/png": "[encoded data removed]",
            "text/plain": [
              "<Figure size 432x288 with 1 Axes>"
            ]
          },
          "metadata": {
            "tags": [],
            "needs_background": "light"
          }
        }
      ]
    },
    {
      "cell_type": "code",
      "metadata": {
        "id": "SUH7yuVWgEEt",
        "colab": {
          "base_uri": "https://localhost:8080/",
          "height": 224
        },
        "outputId": "ef1facc3-a9de-4a6d-b071-b3b910ba4966"
      },
      "source": [
        "df.head()"
      ],
      "execution_count": 58,
      "outputs": [
        {
          "output_type": "execute_result",
          "data": {
            "text/html": [
              "<div>\n",
              "<style scoped>\n",
              "    .dataframe tbody tr th:only-of-type {\n",
              "        vertical-align: middle;\n",
              "    }\n",
              "\n",
              "    .dataframe tbody tr th {\n",
              "        vertical-align: top;\n",
              "    }\n",
              "\n",
              "    .dataframe thead th {\n",
              "        text-align: right;\n",
              "    }\n",
              "</style>\n",
              "<table border=\"1\" class=\"dataframe\">\n",
              "  <thead>\n",
              "    <tr style=\"text-align: right;\">\n",
              "      <th></th>\n",
              "      <th>intubed</th>\n",
              "      <th>pneumonia</th>\n",
              "      <th>age</th>\n",
              "      <th>pregnancy</th>\n",
              "      <th>diabetes</th>\n",
              "      <th>copd</th>\n",
              "      <th>asthma</th>\n",
              "      <th>inmsupr</th>\n",
              "      <th>hypertension</th>\n",
              "      <th>other_disease</th>\n",
              "      <th>cardiovascular</th>\n",
              "      <th>obesity</th>\n",
              "      <th>renal_chronic</th>\n",
              "      <th>tobacco</th>\n",
              "      <th>contact_other_covid</th>\n",
              "      <th>covid_res</th>\n",
              "      <th>icu</th>\n",
              "      <th>fatality</th>\n",
              "      <th>entry_symptoms</th>\n",
              "      <th>date_diff_level</th>\n",
              "    </tr>\n",
              "  </thead>\n",
              "  <tbody>\n",
              "    <tr>\n",
              "      <th>21</th>\n",
              "      <td>2</td>\n",
              "      <td>2</td>\n",
              "      <td>25</td>\n",
              "      <td>2</td>\n",
              "      <td>2</td>\n",
              "      <td>2</td>\n",
              "      <td>2</td>\n",
              "      <td>2</td>\n",
              "      <td>2</td>\n",
              "      <td>2</td>\n",
              "      <td>2</td>\n",
              "      <td>2</td>\n",
              "      <td>2</td>\n",
              "      <td>2</td>\n",
              "      <td>1</td>\n",
              "      <td>1</td>\n",
              "      <td>2</td>\n",
              "      <td>2</td>\n",
              "      <td>0</td>\n",
              "      <td>0</td>\n",
              "    </tr>\n",
              "    <tr>\n",
              "      <th>30</th>\n",
              "      <td>2</td>\n",
              "      <td>2</td>\n",
              "      <td>52</td>\n",
              "      <td>2</td>\n",
              "      <td>2</td>\n",
              "      <td>2</td>\n",
              "      <td>2</td>\n",
              "      <td>2</td>\n",
              "      <td>2</td>\n",
              "      <td>2</td>\n",
              "      <td>2</td>\n",
              "      <td>1</td>\n",
              "      <td>2</td>\n",
              "      <td>1</td>\n",
              "      <td>1</td>\n",
              "      <td>1</td>\n",
              "      <td>2</td>\n",
              "      <td>2</td>\n",
              "      <td>5</td>\n",
              "      <td>3</td>\n",
              "    </tr>\n",
              "    <tr>\n",
              "      <th>79</th>\n",
              "      <td>1</td>\n",
              "      <td>1</td>\n",
              "      <td>67</td>\n",
              "      <td>2</td>\n",
              "      <td>1</td>\n",
              "      <td>2</td>\n",
              "      <td>2</td>\n",
              "      <td>2</td>\n",
              "      <td>1</td>\n",
              "      <td>2</td>\n",
              "      <td>2</td>\n",
              "      <td>1</td>\n",
              "      <td>2</td>\n",
              "      <td>2</td>\n",
              "      <td>1</td>\n",
              "      <td>1</td>\n",
              "      <td>2</td>\n",
              "      <td>2</td>\n",
              "      <td>31</td>\n",
              "      <td>10</td>\n",
              "    </tr>\n",
              "    <tr>\n",
              "      <th>93</th>\n",
              "      <td>2</td>\n",
              "      <td>1</td>\n",
              "      <td>59</td>\n",
              "      <td>2</td>\n",
              "      <td>1</td>\n",
              "      <td>2</td>\n",
              "      <td>2</td>\n",
              "      <td>2</td>\n",
              "      <td>2</td>\n",
              "      <td>2</td>\n",
              "      <td>2</td>\n",
              "      <td>2</td>\n",
              "      <td>2</td>\n",
              "      <td>2</td>\n",
              "      <td>1</td>\n",
              "      <td>1</td>\n",
              "      <td>2</td>\n",
              "      <td>2</td>\n",
              "      <td>0</td>\n",
              "      <td>0</td>\n",
              "    </tr>\n",
              "    <tr>\n",
              "      <th>215</th>\n",
              "      <td>2</td>\n",
              "      <td>2</td>\n",
              "      <td>52</td>\n",
              "      <td>2</td>\n",
              "      <td>1</td>\n",
              "      <td>2</td>\n",
              "      <td>2</td>\n",
              "      <td>2</td>\n",
              "      <td>1</td>\n",
              "      <td>2</td>\n",
              "      <td>1</td>\n",
              "      <td>2</td>\n",
              "      <td>2</td>\n",
              "      <td>2</td>\n",
              "      <td>2</td>\n",
              "      <td>1</td>\n",
              "      <td>2</td>\n",
              "      <td>2</td>\n",
              "      <td>2</td>\n",
              "      <td>1</td>\n",
              "    </tr>\n",
              "  </tbody>\n",
              "</table>\n",
              "</div>"
            ],
            "text/plain": [
              "     intubed  pneumonia  age  ...  fatality  entry_symptoms  date_diff_level\n",
              "21         2          2   25  ...         2               0                0\n",
              "30         2          2   52  ...         2               5                3\n",
              "79         1          1   67  ...         2              31               10\n",
              "93         2          1   59  ...         2               0                0\n",
              "215        2          2   52  ...         2               2                1\n",
              "\n",
              "[5 rows x 20 columns]"
            ]
          },
          "metadata": {
            "tags": []
          },
          "execution_count": 58
        }
      ]
    },
    {
      "cell_type": "code",
      "metadata": {
        "id": "eZszSx4SgEEy",
        "colab": {
          "base_uri": "https://localhost:8080/",
          "height": 224
        },
        "outputId": "3298bbef-e46a-49a6-e766-7f7dce5a84c6"
      },
      "source": [
        "# no longer need entry-symptoms: drop column\n",
        "df = df.drop(['entry_symptoms'], axis = 1) \n",
        "\n",
        "df.head()"
      ],
      "execution_count": 59,
      "outputs": [
        {
          "output_type": "execute_result",
          "data": {
            "text/html": [
              "<div>\n",
              "<style scoped>\n",
              "    .dataframe tbody tr th:only-of-type {\n",
              "        vertical-align: middle;\n",
              "    }\n",
              "\n",
              "    .dataframe tbody tr th {\n",
              "        vertical-align: top;\n",
              "    }\n",
              "\n",
              "    .dataframe thead th {\n",
              "        text-align: right;\n",
              "    }\n",
              "</style>\n",
              "<table border=\"1\" class=\"dataframe\">\n",
              "  <thead>\n",
              "    <tr style=\"text-align: right;\">\n",
              "      <th></th>\n",
              "      <th>intubed</th>\n",
              "      <th>pneumonia</th>\n",
              "      <th>age</th>\n",
              "      <th>pregnancy</th>\n",
              "      <th>diabetes</th>\n",
              "      <th>copd</th>\n",
              "      <th>asthma</th>\n",
              "      <th>inmsupr</th>\n",
              "      <th>hypertension</th>\n",
              "      <th>other_disease</th>\n",
              "      <th>cardiovascular</th>\n",
              "      <th>obesity</th>\n",
              "      <th>renal_chronic</th>\n",
              "      <th>tobacco</th>\n",
              "      <th>contact_other_covid</th>\n",
              "      <th>covid_res</th>\n",
              "      <th>icu</th>\n",
              "      <th>fatality</th>\n",
              "      <th>date_diff_level</th>\n",
              "    </tr>\n",
              "  </thead>\n",
              "  <tbody>\n",
              "    <tr>\n",
              "      <th>21</th>\n",
              "      <td>2</td>\n",
              "      <td>2</td>\n",
              "      <td>25</td>\n",
              "      <td>2</td>\n",
              "      <td>2</td>\n",
              "      <td>2</td>\n",
              "      <td>2</td>\n",
              "      <td>2</td>\n",
              "      <td>2</td>\n",
              "      <td>2</td>\n",
              "      <td>2</td>\n",
              "      <td>2</td>\n",
              "      <td>2</td>\n",
              "      <td>2</td>\n",
              "      <td>1</td>\n",
              "      <td>1</td>\n",
              "      <td>2</td>\n",
              "      <td>2</td>\n",
              "      <td>0</td>\n",
              "    </tr>\n",
              "    <tr>\n",
              "      <th>30</th>\n",
              "      <td>2</td>\n",
              "      <td>2</td>\n",
              "      <td>52</td>\n",
              "      <td>2</td>\n",
              "      <td>2</td>\n",
              "      <td>2</td>\n",
              "      <td>2</td>\n",
              "      <td>2</td>\n",
              "      <td>2</td>\n",
              "      <td>2</td>\n",
              "      <td>2</td>\n",
              "      <td>1</td>\n",
              "      <td>2</td>\n",
              "      <td>1</td>\n",
              "      <td>1</td>\n",
              "      <td>1</td>\n",
              "      <td>2</td>\n",
              "      <td>2</td>\n",
              "      <td>3</td>\n",
              "    </tr>\n",
              "    <tr>\n",
              "      <th>79</th>\n",
              "      <td>1</td>\n",
              "      <td>1</td>\n",
              "      <td>67</td>\n",
              "      <td>2</td>\n",
              "      <td>1</td>\n",
              "      <td>2</td>\n",
              "      <td>2</td>\n",
              "      <td>2</td>\n",
              "      <td>1</td>\n",
              "      <td>2</td>\n",
              "      <td>2</td>\n",
              "      <td>1</td>\n",
              "      <td>2</td>\n",
              "      <td>2</td>\n",
              "      <td>1</td>\n",
              "      <td>1</td>\n",
              "      <td>2</td>\n",
              "      <td>2</td>\n",
              "      <td>10</td>\n",
              "    </tr>\n",
              "    <tr>\n",
              "      <th>93</th>\n",
              "      <td>2</td>\n",
              "      <td>1</td>\n",
              "      <td>59</td>\n",
              "      <td>2</td>\n",
              "      <td>1</td>\n",
              "      <td>2</td>\n",
              "      <td>2</td>\n",
              "      <td>2</td>\n",
              "      <td>2</td>\n",
              "      <td>2</td>\n",
              "      <td>2</td>\n",
              "      <td>2</td>\n",
              "      <td>2</td>\n",
              "      <td>2</td>\n",
              "      <td>1</td>\n",
              "      <td>1</td>\n",
              "      <td>2</td>\n",
              "      <td>2</td>\n",
              "      <td>0</td>\n",
              "    </tr>\n",
              "    <tr>\n",
              "      <th>215</th>\n",
              "      <td>2</td>\n",
              "      <td>2</td>\n",
              "      <td>52</td>\n",
              "      <td>2</td>\n",
              "      <td>1</td>\n",
              "      <td>2</td>\n",
              "      <td>2</td>\n",
              "      <td>2</td>\n",
              "      <td>1</td>\n",
              "      <td>2</td>\n",
              "      <td>1</td>\n",
              "      <td>2</td>\n",
              "      <td>2</td>\n",
              "      <td>2</td>\n",
              "      <td>2</td>\n",
              "      <td>1</td>\n",
              "      <td>2</td>\n",
              "      <td>2</td>\n",
              "      <td>1</td>\n",
              "    </tr>\n",
              "  </tbody>\n",
              "</table>\n",
              "</div>"
            ],
            "text/plain": [
              "     intubed  pneumonia  age  ...  icu  fatality  date_diff_level\n",
              "21         2          2   25  ...    2         2                0\n",
              "30         2          2   52  ...    2         2                3\n",
              "79         1          1   67  ...    2         2               10\n",
              "93         2          1   59  ...    2         2                0\n",
              "215        2          2   52  ...    2         2                1\n",
              "\n",
              "[5 rows x 19 columns]"
            ]
          },
          "metadata": {
            "tags": []
          },
          "execution_count": 59
        }
      ]
    },
    {
      "cell_type": "code",
      "metadata": {
        "id": "yHd_Zf0jgEE3",
        "colab": {
          "base_uri": "https://localhost:8080/",
          "height": 317
        },
        "outputId": "d3a6e86c-5fcf-452a-d013-7db9dd4ebd77"
      },
      "source": [
        "df.describe()"
      ],
      "execution_count": 61,
      "outputs": [
        {
          "output_type": "execute_result",
          "data": {
            "text/html": [
              "<div>\n",
              "<style scoped>\n",
              "    .dataframe tbody tr th:only-of-type {\n",
              "        vertical-align: middle;\n",
              "    }\n",
              "\n",
              "    .dataframe tbody tr th {\n",
              "        vertical-align: top;\n",
              "    }\n",
              "\n",
              "    .dataframe thead th {\n",
              "        text-align: right;\n",
              "    }\n",
              "</style>\n",
              "<table border=\"1\" class=\"dataframe\">\n",
              "  <thead>\n",
              "    <tr style=\"text-align: right;\">\n",
              "      <th></th>\n",
              "      <th>intubed</th>\n",
              "      <th>pneumonia</th>\n",
              "      <th>age</th>\n",
              "      <th>pregnancy</th>\n",
              "      <th>diabetes</th>\n",
              "      <th>copd</th>\n",
              "      <th>asthma</th>\n",
              "      <th>inmsupr</th>\n",
              "      <th>hypertension</th>\n",
              "      <th>other_disease</th>\n",
              "      <th>cardiovascular</th>\n",
              "      <th>obesity</th>\n",
              "      <th>renal_chronic</th>\n",
              "      <th>tobacco</th>\n",
              "      <th>contact_other_covid</th>\n",
              "      <th>covid_res</th>\n",
              "      <th>icu</th>\n",
              "      <th>fatality</th>\n",
              "    </tr>\n",
              "  </thead>\n",
              "  <tbody>\n",
              "    <tr>\n",
              "      <th>count</th>\n",
              "      <td>18458.000000</td>\n",
              "      <td>18458.000000</td>\n",
              "      <td>18458.000000</td>\n",
              "      <td>18458.000000</td>\n",
              "      <td>18458.000000</td>\n",
              "      <td>18458.000000</td>\n",
              "      <td>18458.000000</td>\n",
              "      <td>18458.000000</td>\n",
              "      <td>18458.000000</td>\n",
              "      <td>18458.000000</td>\n",
              "      <td>18458.000000</td>\n",
              "      <td>18458.000000</td>\n",
              "      <td>18458.000000</td>\n",
              "      <td>18458.000000</td>\n",
              "      <td>18458.000000</td>\n",
              "      <td>18458.000000</td>\n",
              "      <td>18458.000000</td>\n",
              "      <td>18458.000000</td>\n",
              "    </tr>\n",
              "    <tr>\n",
              "      <th>mean</th>\n",
              "      <td>1.889479</td>\n",
              "      <td>1.366508</td>\n",
              "      <td>50.030285</td>\n",
              "      <td>1.974808</td>\n",
              "      <td>1.711561</td>\n",
              "      <td>1.953624</td>\n",
              "      <td>1.966410</td>\n",
              "      <td>1.958338</td>\n",
              "      <td>1.681006</td>\n",
              "      <td>1.954383</td>\n",
              "      <td>1.946527</td>\n",
              "      <td>1.776303</td>\n",
              "      <td>1.951457</td>\n",
              "      <td>1.957688</td>\n",
              "      <td>1.695092</td>\n",
              "      <td>1.643407</td>\n",
              "      <td>1.883899</td>\n",
              "      <td>1.834381</td>\n",
              "    </tr>\n",
              "    <tr>\n",
              "      <th>std</th>\n",
              "      <td>0.313547</td>\n",
              "      <td>0.481863</td>\n",
              "      <td>21.140026</td>\n",
              "      <td>0.156713</td>\n",
              "      <td>0.453048</td>\n",
              "      <td>0.210303</td>\n",
              "      <td>0.180176</td>\n",
              "      <td>0.199821</td>\n",
              "      <td>0.466100</td>\n",
              "      <td>0.208659</td>\n",
              "      <td>0.224980</td>\n",
              "      <td>0.416733</td>\n",
              "      <td>0.214916</td>\n",
              "      <td>0.201306</td>\n",
              "      <td>0.460381</td>\n",
              "      <td>0.702664</td>\n",
              "      <td>0.320355</td>\n",
              "      <td>0.371749</td>\n",
              "    </tr>\n",
              "    <tr>\n",
              "      <th>min</th>\n",
              "      <td>1.000000</td>\n",
              "      <td>1.000000</td>\n",
              "      <td>0.000000</td>\n",
              "      <td>1.000000</td>\n",
              "      <td>1.000000</td>\n",
              "      <td>1.000000</td>\n",
              "      <td>1.000000</td>\n",
              "      <td>1.000000</td>\n",
              "      <td>1.000000</td>\n",
              "      <td>1.000000</td>\n",
              "      <td>1.000000</td>\n",
              "      <td>1.000000</td>\n",
              "      <td>1.000000</td>\n",
              "      <td>1.000000</td>\n",
              "      <td>1.000000</td>\n",
              "      <td>1.000000</td>\n",
              "      <td>1.000000</td>\n",
              "      <td>1.000000</td>\n",
              "    </tr>\n",
              "    <tr>\n",
              "      <th>25%</th>\n",
              "      <td>2.000000</td>\n",
              "      <td>1.000000</td>\n",
              "      <td>36.000000</td>\n",
              "      <td>2.000000</td>\n",
              "      <td>1.000000</td>\n",
              "      <td>2.000000</td>\n",
              "      <td>2.000000</td>\n",
              "      <td>2.000000</td>\n",
              "      <td>1.000000</td>\n",
              "      <td>2.000000</td>\n",
              "      <td>2.000000</td>\n",
              "      <td>2.000000</td>\n",
              "      <td>2.000000</td>\n",
              "      <td>2.000000</td>\n",
              "      <td>1.000000</td>\n",
              "      <td>1.000000</td>\n",
              "      <td>2.000000</td>\n",
              "      <td>2.000000</td>\n",
              "    </tr>\n",
              "    <tr>\n",
              "      <th>50%</th>\n",
              "      <td>2.000000</td>\n",
              "      <td>1.000000</td>\n",
              "      <td>52.000000</td>\n",
              "      <td>2.000000</td>\n",
              "      <td>2.000000</td>\n",
              "      <td>2.000000</td>\n",
              "      <td>2.000000</td>\n",
              "      <td>2.000000</td>\n",
              "      <td>2.000000</td>\n",
              "      <td>2.000000</td>\n",
              "      <td>2.000000</td>\n",
              "      <td>2.000000</td>\n",
              "      <td>2.000000</td>\n",
              "      <td>2.000000</td>\n",
              "      <td>2.000000</td>\n",
              "      <td>2.000000</td>\n",
              "      <td>2.000000</td>\n",
              "      <td>2.000000</td>\n",
              "    </tr>\n",
              "    <tr>\n",
              "      <th>75%</th>\n",
              "      <td>2.000000</td>\n",
              "      <td>2.000000</td>\n",
              "      <td>65.000000</td>\n",
              "      <td>2.000000</td>\n",
              "      <td>2.000000</td>\n",
              "      <td>2.000000</td>\n",
              "      <td>2.000000</td>\n",
              "      <td>2.000000</td>\n",
              "      <td>2.000000</td>\n",
              "      <td>2.000000</td>\n",
              "      <td>2.000000</td>\n",
              "      <td>2.000000</td>\n",
              "      <td>2.000000</td>\n",
              "      <td>2.000000</td>\n",
              "      <td>2.000000</td>\n",
              "      <td>2.000000</td>\n",
              "      <td>2.000000</td>\n",
              "      <td>2.000000</td>\n",
              "    </tr>\n",
              "    <tr>\n",
              "      <th>max</th>\n",
              "      <td>2.000000</td>\n",
              "      <td>2.000000</td>\n",
              "      <td>115.000000</td>\n",
              "      <td>2.000000</td>\n",
              "      <td>2.000000</td>\n",
              "      <td>2.000000</td>\n",
              "      <td>2.000000</td>\n",
              "      <td>2.000000</td>\n",
              "      <td>2.000000</td>\n",
              "      <td>2.000000</td>\n",
              "      <td>2.000000</td>\n",
              "      <td>2.000000</td>\n",
              "      <td>2.000000</td>\n",
              "      <td>2.000000</td>\n",
              "      <td>2.000000</td>\n",
              "      <td>3.000000</td>\n",
              "      <td>2.000000</td>\n",
              "      <td>2.000000</td>\n",
              "    </tr>\n",
              "  </tbody>\n",
              "</table>\n",
              "</div>"
            ],
            "text/plain": [
              "            intubed     pneumonia  ...           icu      fatality\n",
              "count  18458.000000  18458.000000  ...  18458.000000  18458.000000\n",
              "mean       1.889479      1.366508  ...      1.883899      1.834381\n",
              "std        0.313547      0.481863  ...      0.320355      0.371749\n",
              "min        1.000000      1.000000  ...      1.000000      1.000000\n",
              "25%        2.000000      1.000000  ...      2.000000      2.000000\n",
              "50%        2.000000      1.000000  ...      2.000000      2.000000\n",
              "75%        2.000000      2.000000  ...      2.000000      2.000000\n",
              "max        2.000000      2.000000  ...      2.000000      2.000000\n",
              "\n",
              "[8 rows x 18 columns]"
            ]
          },
          "metadata": {
            "tags": []
          },
          "execution_count": 61
        }
      ]
    },
    {
      "cell_type": "code",
      "metadata": {
        "id": "uFexy8iun7O1"
      },
      "source": [
        "df.to_csv(path_or_buf=\"data_ready.csv\")"
      ],
      "execution_count": 62,
      "outputs": []
    },
    {
      "cell_type": "code",
      "metadata": {
        "id": "0cJ4Jgvt-Ff-"
      },
      "source": [
        "#CLASSIFICATION TREE"
      ],
      "execution_count": null,
      "outputs": []
    },
    {
      "cell_type": "code",
      "metadata": {
        "id": "ZGYDNR4w-HyL"
      },
      "source": [
        "x_train, x_test, y_train, y_test = train_test_split(x, y, test_size=0.2, random_state=42)"
      ],
      "execution_count": 79,
      "outputs": []
    },
    {
      "cell_type": "code",
      "metadata": {
        "colab": {
          "base_uri": "https://localhost:8080/",
          "height": 0
        },
        "id": "rfjQtYVn-wsz",
        "outputId": "edf1015a-f7b1-4cea-ca25-5c64f8496fc3"
      },
      "source": [
        "dt = DecisionTreeClassifier() # default tree\n",
        "dt.fit(x_train,y_train) \n",
        "dt.predict(x_test)"
      ],
      "execution_count": 80,
      "outputs": [
        {
          "output_type": "execute_result",
          "data": {
            "text/plain": [
              "array([2, 1, 2, ..., 1, 2, 2])"
            ]
          },
          "metadata": {
            "tags": []
          },
          "execution_count": 80
        }
      ]
    },
    {
      "cell_type": "code",
      "metadata": {
        "colab": {
          "base_uri": "https://localhost:8080/",
          "height": 0
        },
        "id": "5a7A63Tw-yd-",
        "outputId": "4c54a1d2-a003-4a76-98ae-94852a165295"
      },
      "source": [
        "dt.score(x_test, y_test)"
      ],
      "execution_count": 81,
      "outputs": [
        {
          "output_type": "execute_result",
          "data": {
            "text/plain": [
              "0.7765438786565547"
            ]
          },
          "metadata": {
            "tags": []
          },
          "execution_count": 81
        }
      ]
    },
    {
      "cell_type": "code",
      "metadata": {
        "colab": {
          "base_uri": "https://localhost:8080/",
          "height": 0
        },
        "id": "xuFxQ8zC-3GM",
        "outputId": "55ba9d36-5e23-4dbe-8a2b-b727787a3231"
      },
      "source": [
        "dt1 = DecisionTreeClassifier(random_state = 66)\n",
        "score = cross_val_score(dt1,x_train,y_train,cv=10).mean()\n",
        "print('gini score: %.5f'%score)\n",
        "dt2 = DecisionTreeClassifier(criterion = 'entropy',random_state = 66)\n",
        "score = cross_val_score(dt2,x_train,y_train,cv=10).mean()\n",
        "print('entropy score: %.5f'%score)"
      ],
      "execution_count": 82,
      "outputs": [
        {
          "output_type": "stream",
          "text": [
            "gini score: 0.77841\n",
            "entropy score: 0.77888\n"
          ],
          "name": "stdout"
        }
      ]
    },
    {
      "cell_type": "markdown",
      "metadata": {
        "id": "TOLlZfUh_Iu_"
      },
      "source": [
        "\n",
        "\n",
        "It can be seen above that the result using entropy is slightly better than using gini.\n",
        "\n"
      ]
    },
    {
      "cell_type": "code",
      "metadata": {
        "colab": {
          "base_uri": "https://localhost:8080/",
          "height": 300
        },
        "id": "vDkncwzu-5ki",
        "outputId": "4a96b8af-bbae-4034-f763-5a206122857d"
      },
      "source": [
        "# draw the plot for parameter:max_depth\n",
        "ScoreAll = []\n",
        "for i in range(1,100,10):\n",
        "    dt = DecisionTreeClassifier(criterion = 'entropy',max_depth = i,random_state = 66)\n",
        "    score = cross_val_score(dt,x,y,cv=10).mean()\n",
        "    ScoreAll.append([i,score])\n",
        "ScoreAll = np.array(ScoreAll)\n",
        "\n",
        "max_score = np.where(ScoreAll==np.max(ScoreAll[:,1]))[0][0]\n",
        "print(\"best parameter and score:\",ScoreAll[max_score])  \n",
        "# print(ScoreAll[,0])\n",
        "plt.figure(figsize=[20,5])\n",
        "plt.plot(ScoreAll[:,0],ScoreAll[:,1])\n",
        "plt.show()"
      ],
      "execution_count": 84,
      "outputs": [
        {
          "output_type": "stream",
          "text": [
            "best parameter and score: [1.         0.84326627]\n"
          ],
          "name": "stdout"
        },
        {
          "output_type": "display_data",
          "data": {
            "image/png": "[encoded data removed]",
            "text/plain": [
              "<Figure size 1440x360 with 1 Axes>"
            ]
          },
          "metadata": {
            "tags": [],
            "needs_background": "light"
          }
        }
      ]
    },
    {
      "cell_type": "code",
      "metadata": {
        "colab": {
          "base_uri": "https://localhost:8080/",
          "height": 0
        },
        "id": "wXrXfGxQ_A23",
        "outputId": "3f8e0772-f9b9-4c63-88ba-7d69672f037d"
      },
      "source": [
        "param = {'criterion':['gini'],'max_depth':[15,20,30,50,60,100],'min_samples_leaf':[2,3,5,10],'min_impurity_decrease':[0.1,0.2,0.5,0.7]}\n",
        "grid = GridSearchCV(DecisionTreeClassifier(),param_grid=param,cv=10)\n",
        "grid.fit(x_train,y_train)\n",
        "print('best classifier:',grid.best_params_,'best score:', grid.best_score_)"
      ],
      "execution_count": 85,
      "outputs": [
        {
          "output_type": "stream",
          "text": [
            "best classifier: {'criterion': 'gini', 'max_depth': 15, 'min_impurity_decrease': 0.1, 'min_samples_leaf': 2} best score: 0.8348232519224311\n"
          ],
          "name": "stdout"
        }
      ]
    },
    {
      "cell_type": "code",
      "metadata": {
        "colab": {
          "base_uri": "https://localhost:8080/",
          "height": 0
        },
        "id": "i4uFtbl1_Cg6",
        "outputId": "589c9e95-0ed9-4425-b92f-d013d727da7b"
      },
      "source": [
        "dt3 = DecisionTreeClassifier(max_depth=15,min_samples_leaf=2,min_impurity_decrease=0.1)\n",
        "dt3.fit(x_train,y_train)\n",
        "y_pred = dt3.predict(x_test)\n",
        "print('train set score', dt3.score(x_train,y_train),'test set score',dt3.score(x_test,y_test))"
      ],
      "execution_count": 86,
      "outputs": [
        {
          "output_type": "stream",
          "text": [
            "train set score 0.8348232425843153 test set score 0.83261105092091\n"
          ],
          "name": "stdout"
        }
      ]
    },
    {
      "cell_type": "code",
      "metadata": {
        "id": "pdwP1RYQ-DKz"
      },
      "source": [
        "# RANDOM FOREST"
      ],
      "execution_count": null,
      "outputs": []
    },
    {
      "cell_type": "code",
      "metadata": {
        "id": "SAjs8Afboou6"
      },
      "source": [
        "y = df['fatality']\n",
        "x = df.drop('fatality',axis = 1)"
      ],
      "execution_count": 64,
      "outputs": []
    },
    {
      "cell_type": "code",
      "metadata": {
        "id": "0ZZc5CpKv9vq",
        "colab": {
          "base_uri": "https://localhost:8080/",
          "height": 0
        },
        "outputId": "217d25ac-9a92-45f8-e81b-58bd77ba4545"
      },
      "source": [
        "# all default\n",
        "rf0 = RandomForestClassifier(oob_score=True, random_state=10)\n",
        "rf0.fit(x,y)\n",
        "print(rf0.oob_score_)\n",
        "y_predprob = rf0.predict_proba(x)[:,1]\n",
        "print(\"AUC Score (Train): %f\" % metrics.roc_auc_score(y, y_predprob))"
      ],
      "execution_count": 65,
      "outputs": [
        {
          "output_type": "stream",
          "text": [
            "0.8252248347599956\n",
            "AUC Score (Train): 0.990963\n"
          ],
          "name": "stdout"
        }
      ]
    },
    {
      "cell_type": "code",
      "metadata": {
        "colab": {
          "base_uri": "https://localhost:8080/",
          "height": 0
        },
        "id": "lbiB32lpcNZQ",
        "outputId": "4a3eb8da-418b-4926-8e86-ccd0b89fa837"
      },
      "source": [
        "print(rf0.feature_importances_)"
      ],
      "execution_count": 66,
      "outputs": [
        {
          "output_type": "stream",
          "text": [
            "[0.12004049 0.0456253  0.42619197 0.00258172 0.02771941 0.01518592\n",
            " 0.00950621 0.01235143 0.02652667 0.01306905 0.01601859 0.02990498\n",
            " 0.0152589  0.0142912  0.02859993 0.06717499 0.02562033 0.10433292]\n"
          ],
          "name": "stdout"
        }
      ]
    },
    {
      "cell_type": "code",
      "metadata": {
        "colab": {
          "base_uri": "https://localhost:8080/",
          "height": 282
        },
        "id": "1Q8irSSIelo4",
        "outputId": "02dafdc4-89aa-446c-e723-f81a4e862659"
      },
      "source": [
        "feat_importances = pd.Series(rf0.feature_importances_, index=x.columns)\n",
        "feat_importances.nlargest(5).plot(kind='barh')"
      ],
      "execution_count": 67,
      "outputs": [
        {
          "output_type": "execute_result",
          "data": {
            "text/plain": [
              "<matplotlib.axes._subplots.AxesSubplot at 0x7fc94bed12e8>"
            ]
          },
          "metadata": {
            "tags": []
          },
          "execution_count": 67
        },
        {
          "output_type": "display_data",
          "data": {
            "image/png": "[encoded data removed]",
            "text/plain": [
              "<Figure size 432x288 with 1 Axes>"
            ]
          },
          "metadata": {
            "tags": [],
            "needs_background": "light"
          }
        }
      ]
    },
    {
      "cell_type": "code",
      "metadata": {
        "id": "IhRHr28vHDIC",
        "colab": {
          "base_uri": "https://localhost:8080/",
          "height": 0
        },
        "outputId": "a1612c87-c0dc-4c38-9401-7ef537a4c648"
      },
      "source": [
        "param_test1 = {'n_estimators':range(10,201,10)}\n",
        "gsearch1 = GridSearchCV(estimator = RandomForestClassifier(min_samples_split=100,\n",
        "                                  min_samples_leaf=20,max_depth=8,max_features='sqrt',random_state=10), \n",
        "                       param_grid = param_test1, scoring='roc_auc',cv=5)\n",
        "gsearch1.fit(x,y)\n",
        "print(gsearch1.best_params_, gsearch1.best_score_)"
      ],
      "execution_count": 70,
      "outputs": [
        {
          "output_type": "stream",
          "text": [
            "{'n_estimators': 70} 0.8173103675660242\n"
          ],
          "name": "stdout"
        }
      ]
    },
    {
      "cell_type": "code",
      "metadata": {
        "colab": {
          "base_uri": "https://localhost:8080/",
          "height": 0
        },
        "id": "YXWSs6rg6und",
        "outputId": "6353382b-0fba-4d39-99fb-ddc2a542239d"
      },
      "source": [
        "param_test2 = {'max_depth':range(2,18,2)}\n",
        "gsearch2 = GridSearchCV(estimator = RandomForestClassifier(n_estimators=70,min_samples_split=100, \n",
        "                                  min_samples_leaf=20,max_features='sqrt',oob_score=True, random_state=10),\n",
        "   param_grid = param_test2, scoring='roc_auc',iid=False, cv=5)\n",
        "gsearch2.fit(x,y)\n",
        "print(gsearch2.best_params_, gsearch2.best_score_)"
      ],
      "execution_count": 72,
      "outputs": [
        {
          "output_type": "stream",
          "text": [
            "/usr/local/lib/python3.6/dist-packages/sklearn/model_selection/_search.py:823: FutureWarning: The parameter 'iid' is deprecated in 0.22 and will be removed in 0.24.\n",
            "  \"removed in 0.24.\", FutureWarning\n"
          ],
          "name": "stderr"
        },
        {
          "output_type": "stream",
          "text": [
            "{'max_depth': 8} 0.8173103675660242\n"
          ],
          "name": "stdout"
        }
      ]
    },
    {
      "cell_type": "code",
      "metadata": {
        "id": "zl4AkydbHDVf",
        "colab": {
          "base_uri": "https://localhost:8080/",
          "height": 0
        },
        "outputId": "de6d48b0-0425-4227-c693-b7cf6377dffa"
      },
      "source": [
        "param_test3 = {'min_samples_split':range(80,150,20), 'min_samples_leaf':range(5,50,5)}\n",
        "gsearch3 = GridSearchCV(estimator = RandomForestClassifier(n_estimators=70, max_depth=8,\n",
        "                                  max_features='sqrt' ,oob_score=True, random_state=10),\n",
        "   param_grid = param_test3, scoring='roc_auc',iid=False, cv=5)\n",
        "gsearch3.fit(x,y)\n",
        "print(gsearch3.best_params_, gsearch3.best_score_)"
      ],
      "execution_count": 73,
      "outputs": [
        {
          "output_type": "stream",
          "text": [
            "/usr/local/lib/python3.6/dist-packages/sklearn/model_selection/_search.py:823: FutureWarning: The parameter 'iid' is deprecated in 0.22 and will be removed in 0.24.\n",
            "  \"removed in 0.24.\", FutureWarning\n"
          ],
          "name": "stderr"
        },
        {
          "output_type": "stream",
          "text": [
            "{'min_samples_leaf': 10, 'min_samples_split': 80} 0.8182691645547792\n"
          ],
          "name": "stdout"
        }
      ]
    },
    {
      "cell_type": "code",
      "metadata": {
        "id": "WBdMFuI_JZtN",
        "colab": {
          "base_uri": "https://localhost:8080/",
          "height": 0
        },
        "outputId": "e2cf90c3-9e99-4153-de1b-a5de77a57cfd"
      },
      "source": [
        "param_test4 = {'max_features':range(2,18,1)}\n",
        "gsearch4 = GridSearchCV(estimator = RandomForestClassifier(n_estimators=70, max_depth=8, min_samples_split=80,\n",
        "                                  min_samples_leaf=10 ,oob_score=True, random_state=10),\n",
        "   param_grid = param_test4, scoring='roc_auc',iid=False, cv=5)\n",
        "gsearch4.fit(x,y)\n",
        "print(gsearch4.best_params_, gsearch4.best_score_)"
      ],
      "execution_count": 74,
      "outputs": [
        {
          "output_type": "stream",
          "text": [
            "/usr/local/lib/python3.6/dist-packages/sklearn/model_selection/_search.py:823: FutureWarning: The parameter 'iid' is deprecated in 0.22 and will be removed in 0.24.\n",
            "  \"removed in 0.24.\", FutureWarning\n"
          ],
          "name": "stderr"
        },
        {
          "output_type": "stream",
          "text": [
            "{'max_features': 4} 0.8182691645547792\n"
          ],
          "name": "stdout"
        }
      ]
    },
    {
      "cell_type": "code",
      "metadata": {
        "colab": {
          "base_uri": "https://localhost:8080/",
          "height": 0
        },
        "id": "ewwSwXDT9Xbu",
        "outputId": "c6aba4d0-d86f-492c-ca12-55fb6aea09f0"
      },
      "source": [
        "rf1 = RandomForestClassifier(n_estimators= 70, max_depth=8, min_samples_split=80,\n",
        "                                  min_samples_leaf=10,max_features=4 ,oob_score=True, random_state=10)\n",
        "rf1.fit(x,y)\n",
        "rf1.oob_score_"
      ],
      "execution_count": 75,
      "outputs": [
        {
          "output_type": "execute_result",
          "data": {
            "text/plain": [
              "0.8590313143352476"
            ]
          },
          "metadata": {
            "tags": []
          },
          "execution_count": 75
        }
      ]
    },
    {
      "cell_type": "code",
      "metadata": {
        "colab": {
          "base_uri": "https://localhost:8080/",
          "height": 0
        },
        "id": "cNzJdh8H94OT",
        "outputId": "25163441-8691-476a-a8a3-cf0600bfff75"
      },
      "source": [
        "print(rf1.feature_importances_)"
      ],
      "execution_count": 77,
      "outputs": [
        {
          "output_type": "stream",
          "text": [
            "[0.42408717 0.12972798 0.15079871 0.00139062 0.02527071 0.00403375\n",
            " 0.00133224 0.0023524  0.02621899 0.00175527 0.00342501 0.00564984\n",
            " 0.00579134 0.0020879  0.01153909 0.15610273 0.03071886 0.01771739]\n"
          ],
          "name": "stdout"
        }
      ]
    },
    {
      "cell_type": "code",
      "metadata": {
        "colab": {
          "base_uri": "https://localhost:8080/",
          "height": 282
        },
        "id": "_YEO-0I698gv",
        "outputId": "0bf38537-6aa7-4e3d-9682-eeb19bcb3e7d"
      },
      "source": [
        "feat_importances = pd.Series(rf0.feature_importances_, index=x.columns)\n",
        "feat_importances.nlargest(5).plot(kind='barh')"
      ],
      "execution_count": 78,
      "outputs": [
        {
          "output_type": "execute_result",
          "data": {
            "text/plain": [
              "<matplotlib.axes._subplots.AxesSubplot at 0x7fc94fbe1358>"
            ]
          },
          "metadata": {
            "tags": []
          },
          "execution_count": 78
        },
        {
          "output_type": "display_data",
          "data": {
            "image/png": "[encoded data removed]",
            "text/plain": [
              "<Figure size 432x288 with 1 Axes>"
            ]
          },
          "metadata": {
            "tags": [],
            "needs_background": "light"
          }
        }
      ]
    },
    {
      "cell_type": "code",
      "metadata": {
        "id": "OZFu7JVg-o_d"
      },
      "source": [
        "#BOOSTING"
      ],
      "execution_count": null,
      "outputs": []
    },
    {
      "cell_type": "code",
      "metadata": {
        "id": "06F2V9Re-r2W"
      },
      "source": [
        "x_train, x_test, y_train, y_test = train_test_split(x, y, test_size=0.2, random_state=42)"
      ],
      "execution_count": null,
      "outputs": []
    },
    {
      "cell_type": "code",
      "metadata": {
        "colab": {
          "base_uri": "https://localhost:8080/"
        },
        "id": "uMv4XQw_B7-z",
        "outputId": "89c92c6f-f544-4027-a483-7ab139aaa8e2"
      },
      "source": [
        "lr_list = [0.05, 0.075, 0.1, 0.25, 0.5, 0.75, 1]\n",
        "\n",
        "for learning_rate in lr_list:\n",
        "    gb_clf = GradientBoostingClassifier(n_estimators=20, learning_rate=learning_rate, max_features=2, max_depth=2, random_state=0)\n",
        "    gb_clf.fit(x_train, y_train)\n",
        "\n",
        "    print(\"Learning rate: \", learning_rate)\n",
        "    print(\"Accuracy score (training):\", gb_clf.score(x_train, y_train))\n",
        "    print(\"Accuracy score (validation)\",gb_clf.score(x_test, y_test))"
      ],
      "execution_count": 108,
      "outputs": [
        {
          "output_type": "stream",
          "text": [
            "Learning rate:  0.05\n",
            "Accuracy score (training): 0.8348232425843153\n",
            "Accuracy score (validation) 0.83261105092091\n",
            "Learning rate:  0.075\n",
            "Accuracy score (training): 0.8348232425843153\n",
            "Accuracy score (validation) 0.83261105092091\n",
            "Learning rate:  0.1\n",
            "Accuracy score (training): 0.8397670323716646\n",
            "Accuracy score (validation) 0.8388407367280607\n",
            "Learning rate:  0.25\n",
            "Accuracy score (training): 0.8545984017337126\n",
            "Accuracy score (validation) 0.8534669555796316\n",
            "Learning rate:  0.5\n",
            "Accuracy score (training): 0.8545306785859407\n",
            "Accuracy score (validation) 0.855092091007584\n",
            "Learning rate:  0.75\n",
            "Accuracy score (training): 0.8548692943248002\n",
            "Accuracy score (validation) 0.8567172264355363\n",
            "Learning rate:  1\n",
            "Accuracy score (training): 0.8533116619260463\n",
            "Accuracy score (validation) 0.8545503791982665\n"
          ],
          "name": "stdout"
        }
      ]
    },
    {
      "cell_type": "code",
      "metadata": {
        "id": "2mFCmWJ4CU_z"
      },
      "source": [
        "# select learning rate = 0.75"
      ],
      "execution_count": null,
      "outputs": []
    },
    {
      "cell_type": "code",
      "metadata": {
        "colab": {
          "base_uri": "https://localhost:8080/"
        },
        "id": "aqcGCzoRCb7n",
        "outputId": "34d13b38-f2ec-45b2-d481-351079c4dd65"
      },
      "source": [
        "gb_clf2 = GradientBoostingClassifier(n_estimators=20, learning_rate=0.75, max_features=2, max_depth=2, random_state=0)\n",
        "gb_clf2.fit(x_train, y_train)\n",
        "predictions = gb_clf2.predict(x_test)\n",
        "\n",
        "print(\"Confusion Matrix:\")\n",
        "print(confusion_matrix(y_test, predictions))\n",
        "\n",
        "print(\"Classification Report\")\n",
        "print(classification_report(y_test, predictions))"
      ],
      "execution_count": 97,
      "outputs": [
        {
          "output_type": "stream",
          "text": [
            "Confusion Matrix:\n",
            "[[ 154  464]\n",
            " [  65 3009]]\n",
            "Classification Report\n",
            "              precision    recall  f1-score   support\n",
            "\n",
            "           1       0.70      0.25      0.37       618\n",
            "           2       0.87      0.98      0.92      3074\n",
            "\n",
            "    accuracy                           0.86      3692\n",
            "   macro avg       0.78      0.61      0.64      3692\n",
            "weighted avg       0.84      0.86      0.83      3692\n",
            "\n"
          ],
          "name": "stdout"
        }
      ]
    },
    {
      "cell_type": "code",
      "metadata": {
        "colab": {
          "base_uri": "https://localhost:8080/"
        },
        "id": "fjT9WrKNGKbC",
        "outputId": "3b3a48dd-13ff-45ba-b6cb-361c93a6fb45"
      },
      "source": [
        "gb_clf2.feature_importances_"
      ],
      "execution_count": 109,
      "outputs": [
        {
          "output_type": "execute_result",
          "data": {
            "text/plain": [
              "array([3.82104872e-01, 1.81913329e-01, 7.75160802e-02, 3.96470952e-03,\n",
              "       1.80246054e-02, 7.19061622e-04, 4.49845684e-04, 2.18785324e-04,\n",
              "       1.08708797e-01, 1.01214500e-03, 7.79165942e-04, 5.15157284e-03,\n",
              "       0.00000000e+00, 1.81211554e-03, 1.91654633e-02, 1.71416604e-01,\n",
              "       2.41496573e-02, 2.89319013e-03])"
            ]
          },
          "metadata": {
            "tags": []
          },
          "execution_count": 109
        }
      ]
    },
    {
      "cell_type": "code",
      "metadata": {
        "colab": {
          "base_uri": "https://localhost:8080/",
          "height": 282
        },
        "id": "mO0kzfyBGQht",
        "outputId": "26d20bf7-2da1-409b-926a-6c3efbd57019"
      },
      "source": [
        "feat_importances = pd.Series(gb_clf2.feature_importances_, index=x.columns)\n",
        "feat_importances.nlargest(5).plot(kind='barh')"
      ],
      "execution_count": 110,
      "outputs": [
        {
          "output_type": "execute_result",
          "data": {
            "text/plain": [
              "<matplotlib.axes._subplots.AxesSubplot at 0x7fc94baa84a8>"
            ]
          },
          "metadata": {
            "tags": []
          },
          "execution_count": 110
        },
        {
          "output_type": "display_data",
          "data": {
            "image/png": "[encoded data removed]",
            "text/plain": [
              "<Figure size 432x288 with 1 Axes>"
            ]
          },
          "metadata": {
            "tags": [],
            "needs_background": "light"
          }
        }
      ]
    },
    {
      "cell_type": "code",
      "metadata": {
        "id": "BFEQUV6XEBmg"
      },
      "source": [
        "x_train['date_diff_level'] = pd.to_numeric(x_train['date_diff_level'])\n",
        "x_test['date_diff_level'] = pd.to_numeric(x_test['date_diff_level'])"
      ],
      "execution_count": null,
      "outputs": []
    },
    {
      "cell_type": "code",
      "metadata": {
        "colab": {
          "base_uri": "https://localhost:8080/"
        },
        "id": "hMKK8rzdDNzF",
        "outputId": "cc3d1d13-21fa-4dac-d79d-ccee3eb9e054"
      },
      "source": [
        "xgb_clf3 = XGBClassifier()\n",
        "xgb_clf3.fit(x_train, y_train)"
      ],
      "execution_count": 106,
      "outputs": [
        {
          "output_type": "execute_result",
          "data": {
            "text/plain": [
              "XGBClassifier(base_score=0.5, booster='gbtree', colsample_bylevel=1,\n",
              "              colsample_bynode=1, colsample_bytree=1, gamma=0,\n",
              "              learning_rate=0.1, max_delta_step=0, max_depth=3,\n",
              "              min_child_weight=1, missing=None, n_estimators=100, n_jobs=1,\n",
              "              nthread=None, objective='binary:logistic', random_state=0,\n",
              "              reg_alpha=0, reg_lambda=1, scale_pos_weight=1, seed=None,\n",
              "              silent=None, subsample=1, verbosity=1)"
            ]
          },
          "metadata": {
            "tags": []
          },
          "execution_count": 106
        }
      ]
    },
    {
      "cell_type": "code",
      "metadata": {
        "colab": {
          "base_uri": "https://localhost:8080/"
        },
        "id": "JWByzSU5DSLX",
        "outputId": "bf9c3c46-a295-4659-d88c-a5f39e44fc58"
      },
      "source": [
        "score = xgb_clf3.score(x_test, y_test)\n",
        "print(score)"
      ],
      "execution_count": 107,
      "outputs": [
        {
          "output_type": "stream",
          "text": [
            "0.8580715059588299\n"
          ],
          "name": "stdout"
        }
      ]
    },
    {
      "cell_type": "code",
      "metadata": {
        "colab": {
          "base_uri": "https://localhost:8080/"
        },
        "id": "9P2Vwt98GWUp",
        "outputId": "baf15d9b-2275-4c8a-fd3a-1e73232ced86"
      },
      "source": [
        "xgb_clf3.feature_importances_"
      ],
      "execution_count": 113,
      "outputs": [
        {
          "output_type": "execute_result",
          "data": {
            "text/plain": [
              "array([0.34893763, 0.24987316, 0.05811411, 0.00360326, 0.02819734,\n",
              "       0.01367755, 0.01048905, 0.01532699, 0.03117329, 0.01278323,\n",
              "       0.0086069 , 0.01742312, 0.01083909, 0.00928206, 0.02856785,\n",
              "       0.13041076, 0.00714213, 0.01555254], dtype=float32)"
            ]
          },
          "metadata": {
            "tags": []
          },
          "execution_count": 113
        }
      ]
    },
    {
      "cell_type": "code",
      "metadata": {
        "colab": {
          "base_uri": "https://localhost:8080/",
          "height": 282
        },
        "id": "yvSMNwrsGcF1",
        "outputId": "85d3856f-a8de-4470-f7c9-4fdf45622d93"
      },
      "source": [
        "feat_importances = pd.Series(xgb_clf3.feature_importances_, index=x.columns)\n",
        "feat_importances.nlargest(5).plot(kind='barh')"
      ],
      "execution_count": 114,
      "outputs": [
        {
          "output_type": "execute_result",
          "data": {
            "text/plain": [
              "<matplotlib.axes._subplots.AxesSubplot at 0x7fc942b82908>"
            ]
          },
          "metadata": {
            "tags": []
          },
          "execution_count": 114
        },
        {
          "output_type": "display_data",
          "data": {
            "image/png": "[encoded data removed]",
            "text/plain": [
              "<Figure size 432x288 with 1 Axes>"
            ]
          },
          "metadata": {
            "tags": [],
            "needs_background": "light"
          }
        }
      ]
    },
    {
      "cell_type": "markdown",
      "metadata": {
        "id": "yILtvyReE9vn"
      },
      "source": [
        "END OF CODE\n"
      ]
    }
  ]
}